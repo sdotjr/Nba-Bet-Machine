{
 "cells": [
  {
   "cell_type": "markdown",
   "metadata": {
    "colab_type": "text",
    "id": "tXshW3Cr5Nse"
   },
   "source": [
    "# NBA Bet Machine"
   ]
  },
  {
   "cell_type": "markdown",
   "metadata": {
    "colab_type": "text",
    "id": "mUxkt6Oz5DDx"
   },
   "source": [
    "## Import Libraries"
   ]
  },
  {
   "cell_type": "code",
   "execution_count": 3,
   "metadata": {
    "colab": {
     "base_uri": "https://localhost:8080/",
     "height": 357
    },
    "colab_type": "code",
    "id": "BqVXfH284uTP",
    "outputId": "3278d46c-2259-4ee4-8583-de076a1aa43d"
   },
   "outputs": [],
   "source": [
    "from sportsreference.nba.schedule import Schedule\n",
    "from datetime import datetime\n",
    "from sportsreference.nba.boxscore import Boxscores, Boxscore\n",
    "from sportsreference.nba.teams import Teams\n",
    "\n",
    "from datetime import datetime, timedelta\n",
    "import numpy as np\n",
    "import pandas as pd\n",
    "import matplotlib.pyplot as plt\n",
    "import seaborn as sns"
   ]
  },
  {
   "cell_type": "code",
   "execution_count": 4,
   "metadata": {
    "colab": {},
    "colab_type": "code",
    "id": "2PPENQib47Ed"
   },
   "outputs": [],
   "source": [
    "pd.set_option('display.max_rows', 500)\n",
    "pd.set_option('display.max_columns', 500)\n",
    "from sklearn.model_selection import train_test_split, cross_val_score, KFold\n",
    "from sklearn.preprocessing import normalize, MinMaxScaler, RobustScaler\n",
    "from sklearn.decomposition import PCA\n",
    "from sklearn.metrics import make_scorer, f1_score"
   ]
  },
  {
   "cell_type": "markdown",
   "metadata": {
    "colab_type": "text",
    "id": "FQLwdYCa5jYu"
   },
   "source": [
    "## Declare Useful Functions and Lists"
   ]
  },
  {
   "cell_type": "code",
   "execution_count": 5,
   "metadata": {
    "colab": {},
    "colab_type": "code",
    "id": "WB_YiYnp5mB_"
   },
   "outputs": [],
   "source": [
    "## this function combines our cleaning step into one easy function\n",
    "def format_nba_df(df):\n",
    "  ## create a bool column for home win\n",
    "  df['homeWin'] = df['winner'] == 'Home'\n",
    "  ## rename unnamed column to gameid\n",
    "  df = df.rename(columns={'Unnamed: 0': 'gameID'})\n",
    "  ## create datetime object from column of date strings and drop the time \n",
    "  df['date'] = df['date'].apply(lambda x: (datetime.strptime(x, '%I:%M %p, %B %d, %Y')).date())\n",
    "  ## create home team column\n",
    "  df['homeTeam'] = np.where(df['homeWin']==True, df['winning_abbr'], df['losing_abbr'])\n",
    "  ## create away team column\n",
    "  df['awayTeam'] = np.where(df['homeWin']==False, df['winning_abbr'], df['losing_abbr'])\n",
    "  return df"
   ]
  },
  {
   "cell_type": "code",
   "execution_count": 6,
   "metadata": {
    "colab": {},
    "colab_type": "code",
    "id": "CrcJLwLd5oOi"
   },
   "outputs": [],
   "source": [
    "## this takes an odds dataframe and converts the date to a datetime object, year must be specified\n",
    "def convert_to_datetime(x, year):\n",
    "  y = str(x)\n",
    "  if x < 1000:\n",
    "    date = datetime(year=year, month=int(y[:-2]), day=int(y[-2:]))\n",
    "    return date.strftime(\"%Y-%m-%d\")\n",
    "  else:\n",
    "    date = datetime(year=year-1, month=int(y[:-2]), day=int(y[-2:]))\n",
    "    return date.strftime(\"%Y-%m-%d\")"
   ]
  },
  {
   "cell_type": "code",
   "execution_count": 7,
   "metadata": {
    "colab": {},
    "colab_type": "code",
    "id": "TnKpAhf-5ux6"
   },
   "outputs": [],
   "source": [
    "def avg_previous_num_games(df, num_games):\n",
    "  ### This function changes each stat to be the average of the last num_games for each team, and shifts it one so it does not include the current stats and drops the first num_games that become null\n",
    "  for col in home_cols:\n",
    "    for team in team_list:\n",
    "      df[col].loc[df['homeTeam']==team] = df[col].loc[df['homeTeam']==team].shift(1).rolling(num_games, min_periods=3).mean()\n",
    "  for col in away_cols:\n",
    "    for team in team_list:\n",
    "      df[col].loc[df['awayTeam']==team] = df[col].loc[df['awayTeam']==team].shift(1).rolling(num_games, min_periods=3).mean()\n",
    "  return df.dropna()"
   ]
  },
  {
   "cell_type": "code",
   "execution_count": 8,
   "metadata": {
    "colab": {},
    "colab_type": "code",
    "id": "sDrxe2c65Rqf"
   },
   "outputs": [],
   "source": [
    "# seperate statistical columns to home and away for later\n",
    "away_cols = ['away_assist_percentage', 'away_assists',\n",
    "       'away_block_percentage', 'away_blocks', 'away_defensive_rating',\n",
    "       'away_defensive_rebound_percentage', 'away_defensive_rebounds',\n",
    "       'away_effective_field_goal_percentage', 'away_field_goal_attempts',\n",
    "       'away_field_goal_percentage', 'away_field_goals',\n",
    "       'away_free_throw_attempt_rate', 'away_free_throw_attempts',\n",
    "       'away_free_throw_percentage', 'away_free_throws','away_minutes_played', 'away_offensive_rating',\n",
    "       'away_offensive_rebound_percentage', 'away_offensive_rebounds',\n",
    "       'away_personal_fouls', 'away_points', 'away_steal_percentage',\n",
    "       'away_steals', 'away_three_point_attempt_rate',\n",
    "       'away_three_point_field_goal_attempts',\n",
    "       'away_three_point_field_goal_percentage',\n",
    "       'away_three_point_field_goals', 'away_total_rebound_percentage',\n",
    "       'away_total_rebounds', 'away_true_shooting_percentage',\n",
    "       'away_turnover_percentage', 'away_turnovers',\n",
    "       'away_two_point_field_goal_attempts',\n",
    "       'away_two_point_field_goal_percentage', 'away_two_point_field_goals']\n",
    "home_cols = ['home_assist_percentage', 'home_assists',\n",
    "       'home_block_percentage', 'home_blocks', 'home_defensive_rating',\n",
    "       'home_defensive_rebound_percentage', 'home_defensive_rebounds',\n",
    "       'home_effective_field_goal_percentage', 'home_field_goal_attempts',\n",
    "       'home_field_goal_percentage', 'home_field_goals',\n",
    "       'home_free_throw_attempt_rate', 'home_free_throw_attempts',\n",
    "       'home_free_throw_percentage', 'home_free_throws',\n",
    "       'home_minutes_played', 'home_offensive_rating',\n",
    "       'home_offensive_rebound_percentage', 'home_offensive_rebounds',\n",
    "       'home_personal_fouls', 'home_points', 'home_steal_percentage',\n",
    "       'home_steals', 'home_three_point_attempt_rate',\n",
    "       'home_three_point_field_goal_attempts',\n",
    "       'home_three_point_field_goal_percentage',\n",
    "       'home_three_point_field_goals', 'home_total_rebound_percentage',\n",
    "       'home_total_rebounds', 'home_true_shooting_percentage',\n",
    "       'home_turnover_percentage', 'home_turnovers',\n",
    "       'home_two_point_field_goal_attempts',\n",
    "       'home_two_point_field_goal_percentage', 'home_two_point_field_goals']"
   ]
  },
  {
   "cell_type": "markdown",
   "metadata": {
    "colab_type": "text",
    "id": "wnBUa_ob5UKE"
   },
   "source": [
    "## Load and Arrange the Data\n",
    "We'll load the stats and odds datasets and ensure they are formatted the same and have the same shape so we can combine them later."
   ]
  },
  {
   "cell_type": "code",
   "execution_count": 10,
   "metadata": {
    "colab": {},
    "colab_type": "code",
    "id": "ySBZnr-E5atM"
   },
   "outputs": [],
   "source": [
    "# load 2017-18 boxscore stats\n",
    "nba2017 = pd.read_csv(r\"../data/nba2017-18.csv\")\n",
    "# load 2018-19 boxscore stats\n",
    "nba2018 = pd.read_csv(r\"../data/nba2018-19.csv\")\n",
    "# load 2019-20 boxscore stats\n",
    "nbaCurrent = pd.read_csv(r'../data/nba2019-20.csv')"
   ]
  },
  {
   "cell_type": "code",
   "execution_count": 11,
   "metadata": {
    "colab": {},
    "colab_type": "code",
    "id": "P8Xjkcxo5fYz"
   },
   "outputs": [],
   "source": [
    "# apply cleaning step\n",
    "nba2017 = format_nba_df(nba2017)\n",
    "nba2018 = format_nba_df(nba2018)\n",
    "nbaCurrent = format_nba_df(nbaCurrent)"
   ]
  },
  {
   "cell_type": "code",
   "execution_count": 12,
   "metadata": {
    "colab": {},
    "colab_type": "code",
    "id": "SY1IzX-Z5dG_"
   },
   "outputs": [],
   "source": [
    "# load 2017-18 odds\n",
    "odds2017 = pd.read_csv(r\"../data/nba odds 2017-18.csv\")\n",
    "# load 2018-19 odds\n",
    "odds2018 = pd.read_csv(r\"../data/nba odds 2018-19.csv\")\n",
    "# load 2019-20 odds\n",
    "oddsCurrent = pd.read_csv(r\"../data/nba odds 2019-20.csv\")"
   ]
  },
  {
   "cell_type": "code",
   "execution_count": 13,
   "metadata": {
    "colab": {},
    "colab_type": "code",
    "id": "VWrnBMAH54sQ"
   },
   "outputs": [],
   "source": [
    "## create list of team abbreviations and sort them\n",
    "team_list = sorted(list(nba2017['homeTeam'].unique()))"
   ]
  },
  {
   "cell_type": "markdown",
   "metadata": {
    "colab_type": "text",
    "id": "Kz66N9UYu0Zh"
   },
   "source": [
    "##### Here we format our odds df to match our main df by:\n",
    "1. Finding the neutral site game for each season and setting the corresponding team to the home team\n",
    "2. Dropping playoff games\n",
    "3. Seperating home/away team and get the home vs away in the same row\n",
    "3. Changing the date column to datetime objects\n",
    "4. Change team names to abbreviations\n",
    "5. Sort by date then by team to line up the two dfs\n",
    "\n",
    "I'll be keeping the odds dfs seperate for now because they'll be attached to each corresponding nba df which will need to remain seperated by season before being transformed."
   ]
  },
  {
   "cell_type": "code",
   "execution_count": 14,
   "metadata": {
    "colab": {
     "base_uri": "https://localhost:8080/",
     "height": 34
    },
    "colab_type": "code",
    "id": "Pc5Fq6iJm0Km",
    "outputId": "faac0708-135e-44b6-a752-d972fec59153"
   },
   "outputs": [
    {
     "data": {
      "text/plain": [
       "array(['V', 'H', 'N'], dtype=object)"
      ]
     },
     "execution_count": 14,
     "metadata": {},
     "output_type": "execute_result"
    }
   ],
   "source": [
    "## one game played in london\n",
    "odds2017['VH'].unique()"
   ]
  },
  {
   "cell_type": "code",
   "execution_count": 15,
   "metadata": {
    "colab": {
     "base_uri": "https://localhost:8080/",
     "height": 34
    },
    "colab_type": "code",
    "id": "vo6VUVu7LAuS",
    "outputId": "278d309e-d27e-4ee9-8c9c-97db3ffaea40"
   },
   "outputs": [
    {
     "data": {
      "text/plain": [
       "array(['V', 'H'], dtype=object)"
      ]
     },
     "execution_count": 15,
     "metadata": {},
     "output_type": "execute_result"
    }
   ],
   "source": [
    "## no neutral sites yet\n",
    "oddsCurrent['VH'].unique()"
   ]
  },
  {
   "cell_type": "code",
   "execution_count": 16,
   "metadata": {
    "colab": {
     "base_uri": "https://localhost:8080/",
     "height": 111
    },
    "colab_type": "code",
    "id": "Sad8CmFtm7aS",
    "outputId": "ccfe8a0a-b211-4d1c-ae6a-974a2c7bcbec"
   },
   "outputs": [
    {
     "data": {
      "text/html": [
       "<div>\n",
       "<style scoped>\n",
       "    .dataframe tbody tr th:only-of-type {\n",
       "        vertical-align: middle;\n",
       "    }\n",
       "\n",
       "    .dataframe tbody tr th {\n",
       "        vertical-align: top;\n",
       "    }\n",
       "\n",
       "    .dataframe thead th {\n",
       "        text-align: right;\n",
       "    }\n",
       "</style>\n",
       "<table border=\"1\" class=\"dataframe\">\n",
       "  <thead>\n",
       "    <tr style=\"text-align: right;\">\n",
       "      <th></th>\n",
       "      <th>Date</th>\n",
       "      <th>Rot</th>\n",
       "      <th>VH</th>\n",
       "      <th>Team</th>\n",
       "      <th>1st</th>\n",
       "      <th>2nd</th>\n",
       "      <th>3rd</th>\n",
       "      <th>4th</th>\n",
       "      <th>Final</th>\n",
       "      <th>Open</th>\n",
       "      <th>Close</th>\n",
       "      <th>ML</th>\n",
       "      <th>2H</th>\n",
       "    </tr>\n",
       "  </thead>\n",
       "  <tbody>\n",
       "    <tr>\n",
       "      <th>1232</th>\n",
       "      <td>111</td>\n",
       "      <td>901</td>\n",
       "      <td>N</td>\n",
       "      <td>Boston</td>\n",
       "      <td>23</td>\n",
       "      <td>25</td>\n",
       "      <td>37</td>\n",
       "      <td>29</td>\n",
       "      <td>114</td>\n",
       "      <td>1.5</td>\n",
       "      <td>1.5</td>\n",
       "      <td>-130</td>\n",
       "      <td>4</td>\n",
       "    </tr>\n",
       "    <tr>\n",
       "      <th>1233</th>\n",
       "      <td>111</td>\n",
       "      <td>902</td>\n",
       "      <td>N</td>\n",
       "      <td>Philadelphia</td>\n",
       "      <td>28</td>\n",
       "      <td>29</td>\n",
       "      <td>22</td>\n",
       "      <td>24</td>\n",
       "      <td>103</td>\n",
       "      <td>205.5</td>\n",
       "      <td>211.5</td>\n",
       "      <td>110</td>\n",
       "      <td>109.5</td>\n",
       "    </tr>\n",
       "  </tbody>\n",
       "</table>\n",
       "</div>"
      ],
      "text/plain": [
       "      Date  Rot VH          Team  1st  2nd  3rd  4th  Final   Open  Close  \\\n",
       "1232   111  901  N        Boston   23   25   37   29    114    1.5    1.5   \n",
       "1233   111  902  N  Philadelphia   28   29   22   24    103  205.5  211.5   \n",
       "\n",
       "       ML     2H  \n",
       "1232 -130      4  \n",
       "1233  110  109.5  "
      ]
     },
     "execution_count": 16,
     "metadata": {},
     "output_type": "execute_result"
    }
   ],
   "source": [
    "## we need to change these to home and away so it matches our other df\n",
    "odds2017.loc[odds2017['VH']=='N']"
   ]
  },
  {
   "cell_type": "code",
   "execution_count": 17,
   "metadata": {
    "colab": {
     "base_uri": "https://localhost:8080/",
     "height": 168
    },
    "colab_type": "code",
    "id": "4GCw_Ah4nmAL",
    "outputId": "29665515-a507-4c65-fd05-b8e81eba270a"
   },
   "outputs": [
    {
     "data": {
      "text/html": [
       "<div>\n",
       "<style scoped>\n",
       "    .dataframe tbody tr th:only-of-type {\n",
       "        vertical-align: middle;\n",
       "    }\n",
       "\n",
       "    .dataframe tbody tr th {\n",
       "        vertical-align: top;\n",
       "    }\n",
       "\n",
       "    .dataframe thead th {\n",
       "        text-align: right;\n",
       "    }\n",
       "</style>\n",
       "<table border=\"1\" class=\"dataframe\">\n",
       "  <thead>\n",
       "    <tr style=\"text-align: right;\">\n",
       "      <th></th>\n",
       "      <th>gameID</th>\n",
       "      <th>away_assist_percentage</th>\n",
       "      <th>away_assists</th>\n",
       "      <th>away_block_percentage</th>\n",
       "      <th>away_blocks</th>\n",
       "      <th>away_defensive_rating</th>\n",
       "      <th>away_defensive_rebound_percentage</th>\n",
       "      <th>away_defensive_rebounds</th>\n",
       "      <th>away_effective_field_goal_percentage</th>\n",
       "      <th>away_field_goal_attempts</th>\n",
       "      <th>away_field_goal_percentage</th>\n",
       "      <th>away_field_goals</th>\n",
       "      <th>away_free_throw_attempt_rate</th>\n",
       "      <th>away_free_throw_attempts</th>\n",
       "      <th>away_free_throw_percentage</th>\n",
       "      <th>away_free_throws</th>\n",
       "      <th>away_losses</th>\n",
       "      <th>away_minutes_played</th>\n",
       "      <th>away_offensive_rating</th>\n",
       "      <th>away_offensive_rebound_percentage</th>\n",
       "      <th>away_offensive_rebounds</th>\n",
       "      <th>away_personal_fouls</th>\n",
       "      <th>away_points</th>\n",
       "      <th>away_steal_percentage</th>\n",
       "      <th>away_steals</th>\n",
       "      <th>away_three_point_attempt_rate</th>\n",
       "      <th>away_three_point_field_goal_attempts</th>\n",
       "      <th>away_three_point_field_goal_percentage</th>\n",
       "      <th>away_three_point_field_goals</th>\n",
       "      <th>away_total_rebound_percentage</th>\n",
       "      <th>away_total_rebounds</th>\n",
       "      <th>away_true_shooting_percentage</th>\n",
       "      <th>away_turnover_percentage</th>\n",
       "      <th>away_turnovers</th>\n",
       "      <th>away_two_point_field_goal_attempts</th>\n",
       "      <th>away_two_point_field_goal_percentage</th>\n",
       "      <th>away_two_point_field_goals</th>\n",
       "      <th>away_wins</th>\n",
       "      <th>date</th>\n",
       "      <th>home_assist_percentage</th>\n",
       "      <th>home_assists</th>\n",
       "      <th>home_block_percentage</th>\n",
       "      <th>home_blocks</th>\n",
       "      <th>home_defensive_rating</th>\n",
       "      <th>home_defensive_rebound_percentage</th>\n",
       "      <th>home_defensive_rebounds</th>\n",
       "      <th>home_effective_field_goal_percentage</th>\n",
       "      <th>home_field_goal_attempts</th>\n",
       "      <th>home_field_goal_percentage</th>\n",
       "      <th>home_field_goals</th>\n",
       "      <th>home_free_throw_attempt_rate</th>\n",
       "      <th>home_free_throw_attempts</th>\n",
       "      <th>home_free_throw_percentage</th>\n",
       "      <th>home_free_throws</th>\n",
       "      <th>home_losses</th>\n",
       "      <th>home_minutes_played</th>\n",
       "      <th>home_offensive_rating</th>\n",
       "      <th>home_offensive_rebound_percentage</th>\n",
       "      <th>home_offensive_rebounds</th>\n",
       "      <th>home_personal_fouls</th>\n",
       "      <th>home_points</th>\n",
       "      <th>home_steal_percentage</th>\n",
       "      <th>home_steals</th>\n",
       "      <th>home_three_point_attempt_rate</th>\n",
       "      <th>home_three_point_field_goal_attempts</th>\n",
       "      <th>home_three_point_field_goal_percentage</th>\n",
       "      <th>home_three_point_field_goals</th>\n",
       "      <th>home_total_rebound_percentage</th>\n",
       "      <th>home_total_rebounds</th>\n",
       "      <th>home_true_shooting_percentage</th>\n",
       "      <th>home_turnover_percentage</th>\n",
       "      <th>home_turnovers</th>\n",
       "      <th>home_two_point_field_goal_attempts</th>\n",
       "      <th>home_two_point_field_goal_percentage</th>\n",
       "      <th>home_two_point_field_goals</th>\n",
       "      <th>home_wins</th>\n",
       "      <th>location</th>\n",
       "      <th>losing_abbr</th>\n",
       "      <th>losing_name</th>\n",
       "      <th>pace</th>\n",
       "      <th>winner</th>\n",
       "      <th>winning_abbr</th>\n",
       "      <th>winning_name</th>\n",
       "      <th>homeWin</th>\n",
       "      <th>homeTeam</th>\n",
       "      <th>awayTeam</th>\n",
       "    </tr>\n",
       "  </thead>\n",
       "  <tbody>\n",
       "    <tr>\n",
       "      <th>614</th>\n",
       "      <td>201801110PHI</td>\n",
       "      <td>55.8</td>\n",
       "      <td>24</td>\n",
       "      <td>3.7</td>\n",
       "      <td>2</td>\n",
       "      <td>99.5</td>\n",
       "      <td>92.1</td>\n",
       "      <td>35</td>\n",
       "      <td>0.556</td>\n",
       "      <td>89</td>\n",
       "      <td>0.483</td>\n",
       "      <td>43</td>\n",
       "      <td>0.213</td>\n",
       "      <td>19</td>\n",
       "      <td>0.789</td>\n",
       "      <td>15</td>\n",
       "      <td>10</td>\n",
       "      <td>240</td>\n",
       "      <td>110.1</td>\n",
       "      <td>24.4</td>\n",
       "      <td>11</td>\n",
       "      <td>18</td>\n",
       "      <td>114</td>\n",
       "      <td>10.6</td>\n",
       "      <td>11</td>\n",
       "      <td>0.393</td>\n",
       "      <td>35</td>\n",
       "      <td>0.371</td>\n",
       "      <td>13</td>\n",
       "      <td>55.4</td>\n",
       "      <td>46</td>\n",
       "      <td>0.585</td>\n",
       "      <td>15.6</td>\n",
       "      <td>18</td>\n",
       "      <td>54</td>\n",
       "      <td>0.556</td>\n",
       "      <td>30</td>\n",
       "      <td>34</td>\n",
       "      <td>2018-01-11</td>\n",
       "      <td>52.6</td>\n",
       "      <td>24</td>\n",
       "      <td>7.4</td>\n",
       "      <td>2</td>\n",
       "      <td>110.1</td>\n",
       "      <td>75.6</td>\n",
       "      <td>35</td>\n",
       "      <td>0.53</td>\n",
       "      <td>89</td>\n",
       "      <td>0.483</td>\n",
       "      <td>43</td>\n",
       "      <td>0.22</td>\n",
       "      <td>19</td>\n",
       "      <td>0.789</td>\n",
       "      <td>15</td>\n",
       "      <td>0</td>\n",
       "      <td>240</td>\n",
       "      <td>99.5</td>\n",
       "      <td>7.9</td>\n",
       "      <td>11</td>\n",
       "      <td>18</td>\n",
       "      <td>103</td>\n",
       "      <td>11.6</td>\n",
       "      <td>11</td>\n",
       "      <td>0.341</td>\n",
       "      <td>35</td>\n",
       "      <td>0.371</td>\n",
       "      <td>13</td>\n",
       "      <td>44.6</td>\n",
       "      <td>46</td>\n",
       "      <td>0.573</td>\n",
       "      <td>17.4</td>\n",
       "      <td>18</td>\n",
       "      <td>54</td>\n",
       "      <td>0.556</td>\n",
       "      <td>30</td>\n",
       "      <td>0</td>\n",
       "      <td>The O2 Arena, London, United Kingdom</td>\n",
       "      <td>PHI</td>\n",
       "      <td>Philadelphia 76ers</td>\n",
       "      <td>103.5</td>\n",
       "      <td>Away</td>\n",
       "      <td>BOS</td>\n",
       "      <td>Boston Celtics</td>\n",
       "      <td>False</td>\n",
       "      <td>PHI</td>\n",
       "      <td>BOS</td>\n",
       "    </tr>\n",
       "  </tbody>\n",
       "</table>\n",
       "</div>"
      ],
      "text/plain": [
       "           gameID  away_assist_percentage  away_assists  \\\n",
       "614  201801110PHI                    55.8            24   \n",
       "\n",
       "     away_block_percentage  away_blocks  away_defensive_rating  \\\n",
       "614                    3.7            2                   99.5   \n",
       "\n",
       "     away_defensive_rebound_percentage  away_defensive_rebounds  \\\n",
       "614                               92.1                       35   \n",
       "\n",
       "     away_effective_field_goal_percentage  away_field_goal_attempts  \\\n",
       "614                                 0.556                        89   \n",
       "\n",
       "     away_field_goal_percentage  away_field_goals  \\\n",
       "614                       0.483                43   \n",
       "\n",
       "     away_free_throw_attempt_rate  away_free_throw_attempts  \\\n",
       "614                         0.213                        19   \n",
       "\n",
       "     away_free_throw_percentage  away_free_throws  away_losses  \\\n",
       "614                       0.789                15           10   \n",
       "\n",
       "     away_minutes_played  away_offensive_rating  \\\n",
       "614                  240                  110.1   \n",
       "\n",
       "     away_offensive_rebound_percentage  away_offensive_rebounds  \\\n",
       "614                               24.4                       11   \n",
       "\n",
       "     away_personal_fouls  away_points  away_steal_percentage  away_steals  \\\n",
       "614                   18          114                   10.6           11   \n",
       "\n",
       "     away_three_point_attempt_rate  away_three_point_field_goal_attempts  \\\n",
       "614                          0.393                                    35   \n",
       "\n",
       "     away_three_point_field_goal_percentage  away_three_point_field_goals  \\\n",
       "614                                   0.371                            13   \n",
       "\n",
       "     away_total_rebound_percentage  away_total_rebounds  \\\n",
       "614                           55.4                   46   \n",
       "\n",
       "     away_true_shooting_percentage  away_turnover_percentage  away_turnovers  \\\n",
       "614                          0.585                      15.6              18   \n",
       "\n",
       "     away_two_point_field_goal_attempts  away_two_point_field_goal_percentage  \\\n",
       "614                                  54                                 0.556   \n",
       "\n",
       "     away_two_point_field_goals  away_wins        date  \\\n",
       "614                          30         34  2018-01-11   \n",
       "\n",
       "     home_assist_percentage  home_assists  home_block_percentage  home_blocks  \\\n",
       "614                    52.6            24                    7.4            2   \n",
       "\n",
       "     home_defensive_rating  home_defensive_rebound_percentage  \\\n",
       "614                  110.1                               75.6   \n",
       "\n",
       "     home_defensive_rebounds  home_effective_field_goal_percentage  \\\n",
       "614                       35                                  0.53   \n",
       "\n",
       "     home_field_goal_attempts  home_field_goal_percentage  home_field_goals  \\\n",
       "614                        89                       0.483                43   \n",
       "\n",
       "     home_free_throw_attempt_rate  home_free_throw_attempts  \\\n",
       "614                          0.22                        19   \n",
       "\n",
       "     home_free_throw_percentage  home_free_throws  home_losses  \\\n",
       "614                       0.789                15            0   \n",
       "\n",
       "     home_minutes_played  home_offensive_rating  \\\n",
       "614                  240                   99.5   \n",
       "\n",
       "     home_offensive_rebound_percentage  home_offensive_rebounds  \\\n",
       "614                                7.9                       11   \n",
       "\n",
       "     home_personal_fouls  home_points  home_steal_percentage  home_steals  \\\n",
       "614                   18          103                   11.6           11   \n",
       "\n",
       "     home_three_point_attempt_rate  home_three_point_field_goal_attempts  \\\n",
       "614                          0.341                                    35   \n",
       "\n",
       "     home_three_point_field_goal_percentage  home_three_point_field_goals  \\\n",
       "614                                   0.371                            13   \n",
       "\n",
       "     home_total_rebound_percentage  home_total_rebounds  \\\n",
       "614                           44.6                   46   \n",
       "\n",
       "     home_true_shooting_percentage  home_turnover_percentage  home_turnovers  \\\n",
       "614                          0.573                      17.4              18   \n",
       "\n",
       "     home_two_point_field_goal_attempts  home_two_point_field_goal_percentage  \\\n",
       "614                                  54                                 0.556   \n",
       "\n",
       "     home_two_point_field_goals  home_wins  \\\n",
       "614                          30          0   \n",
       "\n",
       "                                 location losing_abbr         losing_name  \\\n",
       "614  The O2 Arena, London, United Kingdom         PHI  Philadelphia 76ers   \n",
       "\n",
       "      pace winner winning_abbr    winning_name  homeWin homeTeam awayTeam  \n",
       "614  103.5   Away          BOS  Boston Celtics    False      PHI      BOS  "
      ]
     },
     "execution_count": 17,
     "metadata": {},
     "output_type": "execute_result"
    }
   ],
   "source": [
    "## PHI is the home team\n",
    "nba2017.loc[nba2017['gameID']=='201801110PHI']"
   ]
  },
  {
   "cell_type": "code",
   "execution_count": 18,
   "metadata": {
    "colab": {
     "base_uri": "https://localhost:8080/",
     "height": 102
    },
    "colab_type": "code",
    "id": "QkzdmVaWqJxw",
    "outputId": "6430d24d-225a-499b-ff56-9cf8b50be39b"
   },
   "outputs": [
    {
     "name": "stderr",
     "output_type": "stream",
     "text": [
      "/home/sdotjr/anaconda3/lib/python3.7/site-packages/pandas/core/indexing.py:205: SettingWithCopyWarning: \n",
      "A value is trying to be set on a copy of a slice from a DataFrame\n",
      "\n",
      "See the caveats in the documentation: http://pandas.pydata.org/pandas-docs/stable/user_guide/indexing.html#returning-a-view-versus-a-copy\n",
      "  self._setitem_with_indexer(indexer, value)\n"
     ]
    }
   ],
   "source": [
    "## change values for home and away team\n",
    "odds2017['VH'].iloc[[1233]] = 'H'\n",
    "odds2017['VH'].iloc[[1232]] = 'V'"
   ]
  },
  {
   "cell_type": "code",
   "execution_count": 19,
   "metadata": {
    "colab": {
     "base_uri": "https://localhost:8080/",
     "height": 111
    },
    "colab_type": "code",
    "id": "rKtiN0TbrQNg",
    "outputId": "7d7a4760-cfe1-40e1-ba0b-fa232fd90926"
   },
   "outputs": [
    {
     "data": {
      "text/html": [
       "<div>\n",
       "<style scoped>\n",
       "    .dataframe tbody tr th:only-of-type {\n",
       "        vertical-align: middle;\n",
       "    }\n",
       "\n",
       "    .dataframe tbody tr th {\n",
       "        vertical-align: top;\n",
       "    }\n",
       "\n",
       "    .dataframe thead th {\n",
       "        text-align: right;\n",
       "    }\n",
       "</style>\n",
       "<table border=\"1\" class=\"dataframe\">\n",
       "  <thead>\n",
       "    <tr style=\"text-align: right;\">\n",
       "      <th></th>\n",
       "      <th>Date</th>\n",
       "      <th>Rot</th>\n",
       "      <th>VH</th>\n",
       "      <th>Team</th>\n",
       "      <th>1st</th>\n",
       "      <th>2nd</th>\n",
       "      <th>3rd</th>\n",
       "      <th>4th</th>\n",
       "      <th>Final</th>\n",
       "      <th>Open</th>\n",
       "      <th>Close</th>\n",
       "      <th>ML</th>\n",
       "      <th>2H</th>\n",
       "    </tr>\n",
       "  </thead>\n",
       "  <tbody>\n",
       "    <tr>\n",
       "      <th>1232</th>\n",
       "      <td>111</td>\n",
       "      <td>901</td>\n",
       "      <td>V</td>\n",
       "      <td>Boston</td>\n",
       "      <td>23</td>\n",
       "      <td>25</td>\n",
       "      <td>37</td>\n",
       "      <td>29</td>\n",
       "      <td>114</td>\n",
       "      <td>1.5</td>\n",
       "      <td>1.5</td>\n",
       "      <td>-130</td>\n",
       "      <td>4</td>\n",
       "    </tr>\n",
       "    <tr>\n",
       "      <th>1233</th>\n",
       "      <td>111</td>\n",
       "      <td>902</td>\n",
       "      <td>H</td>\n",
       "      <td>Philadelphia</td>\n",
       "      <td>28</td>\n",
       "      <td>29</td>\n",
       "      <td>22</td>\n",
       "      <td>24</td>\n",
       "      <td>103</td>\n",
       "      <td>205.5</td>\n",
       "      <td>211.5</td>\n",
       "      <td>110</td>\n",
       "      <td>109.5</td>\n",
       "    </tr>\n",
       "  </tbody>\n",
       "</table>\n",
       "</div>"
      ],
      "text/plain": [
       "      Date  Rot VH          Team  1st  2nd  3rd  4th  Final   Open  Close  \\\n",
       "1232   111  901  V        Boston   23   25   37   29    114    1.5    1.5   \n",
       "1233   111  902  H  Philadelphia   28   29   22   24    103  205.5  211.5   \n",
       "\n",
       "       ML     2H  \n",
       "1232 -130      4  \n",
       "1233  110  109.5  "
      ]
     },
     "execution_count": 19,
     "metadata": {},
     "output_type": "execute_result"
    }
   ],
   "source": [
    "## check work\n",
    "odds2017.iloc[[1232,1233]]"
   ]
  },
  {
   "cell_type": "code",
   "execution_count": 20,
   "metadata": {
    "colab": {
     "base_uri": "https://localhost:8080/",
     "height": 111
    },
    "colab_type": "code",
    "id": "yQUqq2FWrfpf",
    "outputId": "a4f38b62-7cbc-4a2b-89dc-87dd12b8cc3f"
   },
   "outputs": [
    {
     "data": {
      "text/html": [
       "<div>\n",
       "<style scoped>\n",
       "    .dataframe tbody tr th:only-of-type {\n",
       "        vertical-align: middle;\n",
       "    }\n",
       "\n",
       "    .dataframe tbody tr th {\n",
       "        vertical-align: top;\n",
       "    }\n",
       "\n",
       "    .dataframe thead th {\n",
       "        text-align: right;\n",
       "    }\n",
       "</style>\n",
       "<table border=\"1\" class=\"dataframe\">\n",
       "  <thead>\n",
       "    <tr style=\"text-align: right;\">\n",
       "      <th></th>\n",
       "      <th>Date</th>\n",
       "      <th>Rot</th>\n",
       "      <th>VH</th>\n",
       "      <th>Team</th>\n",
       "      <th>1st</th>\n",
       "      <th>2nd</th>\n",
       "      <th>3rd</th>\n",
       "      <th>4th</th>\n",
       "      <th>Final</th>\n",
       "      <th>Open</th>\n",
       "      <th>Close</th>\n",
       "      <th>ML</th>\n",
       "      <th>2H</th>\n",
       "    </tr>\n",
       "  </thead>\n",
       "  <tbody>\n",
       "    <tr>\n",
       "      <th>1328</th>\n",
       "      <td>117</td>\n",
       "      <td>541</td>\n",
       "      <td>N</td>\n",
       "      <td>NewYork</td>\n",
       "      <td>30</td>\n",
       "      <td>33</td>\n",
       "      <td>26</td>\n",
       "      <td>11</td>\n",
       "      <td>100</td>\n",
       "      <td>225</td>\n",
       "      <td>229</td>\n",
       "      <td>260</td>\n",
       "      <td>112.5</td>\n",
       "    </tr>\n",
       "    <tr>\n",
       "      <th>1329</th>\n",
       "      <td>117</td>\n",
       "      <td>542</td>\n",
       "      <td>N</td>\n",
       "      <td>Washington</td>\n",
       "      <td>20</td>\n",
       "      <td>33</td>\n",
       "      <td>24</td>\n",
       "      <td>24</td>\n",
       "      <td>101</td>\n",
       "      <td>7</td>\n",
       "      <td>7.5</td>\n",
       "      <td>-330</td>\n",
       "      <td>7.5</td>\n",
       "    </tr>\n",
       "  </tbody>\n",
       "</table>\n",
       "</div>"
      ],
      "text/plain": [
       "      Date  Rot VH        Team  1st  2nd  3rd  4th  Final Open Close   ML  \\\n",
       "1328   117  541  N     NewYork   30   33   26   11    100  225   229  260   \n",
       "1329   117  542  N  Washington   20   33   24   24    101    7   7.5 -330   \n",
       "\n",
       "         2H  \n",
       "1328  112.5  \n",
       "1329    7.5  "
      ]
     },
     "execution_count": 20,
     "metadata": {},
     "output_type": "execute_result"
    }
   ],
   "source": [
    "## do the same for 2018 df\n",
    "odds2018.loc[odds2018['VH']=='N']"
   ]
  },
  {
   "cell_type": "code",
   "execution_count": 21,
   "metadata": {
    "colab": {
     "base_uri": "https://localhost:8080/",
     "height": 168
    },
    "colab_type": "code",
    "id": "csAl8j8nr6z0",
    "outputId": "38509839-9233-460b-c706-075beb41dd2c"
   },
   "outputs": [
    {
     "data": {
      "text/html": [
       "<div>\n",
       "<style scoped>\n",
       "    .dataframe tbody tr th:only-of-type {\n",
       "        vertical-align: middle;\n",
       "    }\n",
       "\n",
       "    .dataframe tbody tr th {\n",
       "        vertical-align: top;\n",
       "    }\n",
       "\n",
       "    .dataframe thead th {\n",
       "        text-align: right;\n",
       "    }\n",
       "</style>\n",
       "<table border=\"1\" class=\"dataframe\">\n",
       "  <thead>\n",
       "    <tr style=\"text-align: right;\">\n",
       "      <th></th>\n",
       "      <th>gameID</th>\n",
       "      <th>away_assist_percentage</th>\n",
       "      <th>away_assists</th>\n",
       "      <th>away_block_percentage</th>\n",
       "      <th>away_blocks</th>\n",
       "      <th>away_defensive_rating</th>\n",
       "      <th>away_defensive_rebound_percentage</th>\n",
       "      <th>away_defensive_rebounds</th>\n",
       "      <th>away_effective_field_goal_percentage</th>\n",
       "      <th>away_field_goal_attempts</th>\n",
       "      <th>away_field_goal_percentage</th>\n",
       "      <th>away_field_goals</th>\n",
       "      <th>away_free_throw_attempt_rate</th>\n",
       "      <th>away_free_throw_attempts</th>\n",
       "      <th>away_free_throw_percentage</th>\n",
       "      <th>away_free_throws</th>\n",
       "      <th>away_losses</th>\n",
       "      <th>away_minutes_played</th>\n",
       "      <th>away_offensive_rating</th>\n",
       "      <th>away_offensive_rebound_percentage</th>\n",
       "      <th>away_offensive_rebounds</th>\n",
       "      <th>away_personal_fouls</th>\n",
       "      <th>away_points</th>\n",
       "      <th>away_steal_percentage</th>\n",
       "      <th>away_steals</th>\n",
       "      <th>away_three_point_attempt_rate</th>\n",
       "      <th>away_three_point_field_goal_attempts</th>\n",
       "      <th>away_three_point_field_goal_percentage</th>\n",
       "      <th>away_three_point_field_goals</th>\n",
       "      <th>away_total_rebound_percentage</th>\n",
       "      <th>away_total_rebounds</th>\n",
       "      <th>away_true_shooting_percentage</th>\n",
       "      <th>away_turnover_percentage</th>\n",
       "      <th>away_turnovers</th>\n",
       "      <th>away_two_point_field_goal_attempts</th>\n",
       "      <th>away_two_point_field_goal_percentage</th>\n",
       "      <th>away_two_point_field_goals</th>\n",
       "      <th>away_wins</th>\n",
       "      <th>date</th>\n",
       "      <th>home_assist_percentage</th>\n",
       "      <th>home_assists</th>\n",
       "      <th>home_block_percentage</th>\n",
       "      <th>home_blocks</th>\n",
       "      <th>home_defensive_rating</th>\n",
       "      <th>home_defensive_rebound_percentage</th>\n",
       "      <th>home_defensive_rebounds</th>\n",
       "      <th>home_effective_field_goal_percentage</th>\n",
       "      <th>home_field_goal_attempts</th>\n",
       "      <th>home_field_goal_percentage</th>\n",
       "      <th>home_field_goals</th>\n",
       "      <th>home_free_throw_attempt_rate</th>\n",
       "      <th>home_free_throw_attempts</th>\n",
       "      <th>home_free_throw_percentage</th>\n",
       "      <th>home_free_throws</th>\n",
       "      <th>home_losses</th>\n",
       "      <th>home_minutes_played</th>\n",
       "      <th>home_offensive_rating</th>\n",
       "      <th>home_offensive_rebound_percentage</th>\n",
       "      <th>home_offensive_rebounds</th>\n",
       "      <th>home_personal_fouls</th>\n",
       "      <th>home_points</th>\n",
       "      <th>home_steal_percentage</th>\n",
       "      <th>home_steals</th>\n",
       "      <th>home_three_point_attempt_rate</th>\n",
       "      <th>home_three_point_field_goal_attempts</th>\n",
       "      <th>home_three_point_field_goal_percentage</th>\n",
       "      <th>home_three_point_field_goals</th>\n",
       "      <th>home_total_rebound_percentage</th>\n",
       "      <th>home_total_rebounds</th>\n",
       "      <th>home_true_shooting_percentage</th>\n",
       "      <th>home_turnover_percentage</th>\n",
       "      <th>home_turnovers</th>\n",
       "      <th>home_two_point_field_goal_attempts</th>\n",
       "      <th>home_two_point_field_goal_percentage</th>\n",
       "      <th>home_two_point_field_goals</th>\n",
       "      <th>home_wins</th>\n",
       "      <th>location</th>\n",
       "      <th>losing_abbr</th>\n",
       "      <th>losing_name</th>\n",
       "      <th>pace</th>\n",
       "      <th>winner</th>\n",
       "      <th>winning_abbr</th>\n",
       "      <th>winning_name</th>\n",
       "      <th>homeWin</th>\n",
       "      <th>homeTeam</th>\n",
       "      <th>awayTeam</th>\n",
       "    </tr>\n",
       "  </thead>\n",
       "  <tbody>\n",
       "    <tr>\n",
       "      <th>669</th>\n",
       "      <td>201901170WAS</td>\n",
       "      <td>38.5</td>\n",
       "      <td>15</td>\n",
       "      <td>4.6</td>\n",
       "      <td>3</td>\n",
       "      <td>103.5</td>\n",
       "      <td>70.6</td>\n",
       "      <td>36</td>\n",
       "      <td>0.517</td>\n",
       "      <td>87</td>\n",
       "      <td>0.448</td>\n",
       "      <td>39</td>\n",
       "      <td>0.138</td>\n",
       "      <td>12</td>\n",
       "      <td>0.833</td>\n",
       "      <td>10</td>\n",
       "      <td>34</td>\n",
       "      <td>240</td>\n",
       "      <td>102.5</td>\n",
       "      <td>14.3</td>\n",
       "      <td>6</td>\n",
       "      <td>16</td>\n",
       "      <td>100</td>\n",
       "      <td>6.2</td>\n",
       "      <td>6</td>\n",
       "      <td>0.333</td>\n",
       "      <td>29</td>\n",
       "      <td>0.414</td>\n",
       "      <td>12</td>\n",
       "      <td>45.2</td>\n",
       "      <td>42</td>\n",
       "      <td>0.542</td>\n",
       "      <td>13.2</td>\n",
       "      <td>14</td>\n",
       "      <td>58</td>\n",
       "      <td>0.466</td>\n",
       "      <td>27</td>\n",
       "      <td>10</td>\n",
       "      <td>2019-01-17</td>\n",
       "      <td>57.5</td>\n",
       "      <td>15</td>\n",
       "      <td>3.4</td>\n",
       "      <td>3</td>\n",
       "      <td>102.5</td>\n",
       "      <td>85.7</td>\n",
       "      <td>36</td>\n",
       "      <td>0.473</td>\n",
       "      <td>87</td>\n",
       "      <td>0.448</td>\n",
       "      <td>39</td>\n",
       "      <td>0.217</td>\n",
       "      <td>12</td>\n",
       "      <td>0.833</td>\n",
       "      <td>10</td>\n",
       "      <td>26</td>\n",
       "      <td>240</td>\n",
       "      <td>103.5</td>\n",
       "      <td>29.4</td>\n",
       "      <td>6</td>\n",
       "      <td>16</td>\n",
       "      <td>101</td>\n",
       "      <td>9.2</td>\n",
       "      <td>6</td>\n",
       "      <td>0.293</td>\n",
       "      <td>29</td>\n",
       "      <td>0.414</td>\n",
       "      <td>12</td>\n",
       "      <td>54.8</td>\n",
       "      <td>42</td>\n",
       "      <td>0.501</td>\n",
       "      <td>11.4</td>\n",
       "      <td>14</td>\n",
       "      <td>58</td>\n",
       "      <td>0.466</td>\n",
       "      <td>27</td>\n",
       "      <td>19</td>\n",
       "      <td>The O2 Arena, London, United Kingdom</td>\n",
       "      <td>NYK</td>\n",
       "      <td>New York Knicks</td>\n",
       "      <td>97.5</td>\n",
       "      <td>Home</td>\n",
       "      <td>WAS</td>\n",
       "      <td>Washington Wizards</td>\n",
       "      <td>True</td>\n",
       "      <td>WAS</td>\n",
       "      <td>NYK</td>\n",
       "    </tr>\n",
       "  </tbody>\n",
       "</table>\n",
       "</div>"
      ],
      "text/plain": [
       "           gameID  away_assist_percentage  away_assists  \\\n",
       "669  201901170WAS                    38.5            15   \n",
       "\n",
       "     away_block_percentage  away_blocks  away_defensive_rating  \\\n",
       "669                    4.6            3                  103.5   \n",
       "\n",
       "     away_defensive_rebound_percentage  away_defensive_rebounds  \\\n",
       "669                               70.6                       36   \n",
       "\n",
       "     away_effective_field_goal_percentage  away_field_goal_attempts  \\\n",
       "669                                 0.517                        87   \n",
       "\n",
       "     away_field_goal_percentage  away_field_goals  \\\n",
       "669                       0.448                39   \n",
       "\n",
       "     away_free_throw_attempt_rate  away_free_throw_attempts  \\\n",
       "669                         0.138                        12   \n",
       "\n",
       "     away_free_throw_percentage  away_free_throws  away_losses  \\\n",
       "669                       0.833                10           34   \n",
       "\n",
       "     away_minutes_played  away_offensive_rating  \\\n",
       "669                  240                  102.5   \n",
       "\n",
       "     away_offensive_rebound_percentage  away_offensive_rebounds  \\\n",
       "669                               14.3                        6   \n",
       "\n",
       "     away_personal_fouls  away_points  away_steal_percentage  away_steals  \\\n",
       "669                   16          100                    6.2            6   \n",
       "\n",
       "     away_three_point_attempt_rate  away_three_point_field_goal_attempts  \\\n",
       "669                          0.333                                    29   \n",
       "\n",
       "     away_three_point_field_goal_percentage  away_three_point_field_goals  \\\n",
       "669                                   0.414                            12   \n",
       "\n",
       "     away_total_rebound_percentage  away_total_rebounds  \\\n",
       "669                           45.2                   42   \n",
       "\n",
       "     away_true_shooting_percentage  away_turnover_percentage  away_turnovers  \\\n",
       "669                          0.542                      13.2              14   \n",
       "\n",
       "     away_two_point_field_goal_attempts  away_two_point_field_goal_percentage  \\\n",
       "669                                  58                                 0.466   \n",
       "\n",
       "     away_two_point_field_goals  away_wins        date  \\\n",
       "669                          27         10  2019-01-17   \n",
       "\n",
       "     home_assist_percentage  home_assists  home_block_percentage  home_blocks  \\\n",
       "669                    57.5            15                    3.4            3   \n",
       "\n",
       "     home_defensive_rating  home_defensive_rebound_percentage  \\\n",
       "669                  102.5                               85.7   \n",
       "\n",
       "     home_defensive_rebounds  home_effective_field_goal_percentage  \\\n",
       "669                       36                                 0.473   \n",
       "\n",
       "     home_field_goal_attempts  home_field_goal_percentage  home_field_goals  \\\n",
       "669                        87                       0.448                39   \n",
       "\n",
       "     home_free_throw_attempt_rate  home_free_throw_attempts  \\\n",
       "669                         0.217                        12   \n",
       "\n",
       "     home_free_throw_percentage  home_free_throws  home_losses  \\\n",
       "669                       0.833                10           26   \n",
       "\n",
       "     home_minutes_played  home_offensive_rating  \\\n",
       "669                  240                  103.5   \n",
       "\n",
       "     home_offensive_rebound_percentage  home_offensive_rebounds  \\\n",
       "669                               29.4                        6   \n",
       "\n",
       "     home_personal_fouls  home_points  home_steal_percentage  home_steals  \\\n",
       "669                   16          101                    9.2            6   \n",
       "\n",
       "     home_three_point_attempt_rate  home_three_point_field_goal_attempts  \\\n",
       "669                          0.293                                    29   \n",
       "\n",
       "     home_three_point_field_goal_percentage  home_three_point_field_goals  \\\n",
       "669                                   0.414                            12   \n",
       "\n",
       "     home_total_rebound_percentage  home_total_rebounds  \\\n",
       "669                           54.8                   42   \n",
       "\n",
       "     home_true_shooting_percentage  home_turnover_percentage  home_turnovers  \\\n",
       "669                          0.501                      11.4              14   \n",
       "\n",
       "     home_two_point_field_goal_attempts  home_two_point_field_goal_percentage  \\\n",
       "669                                  58                                 0.466   \n",
       "\n",
       "     home_two_point_field_goals  home_wins  \\\n",
       "669                          27         19   \n",
       "\n",
       "                                 location losing_abbr      losing_name  pace  \\\n",
       "669  The O2 Arena, London, United Kingdom         NYK  New York Knicks  97.5   \n",
       "\n",
       "    winner winning_abbr        winning_name  homeWin homeTeam awayTeam  \n",
       "669   Home          WAS  Washington Wizards     True      WAS      NYK  "
      ]
     },
     "execution_count": 21,
     "metadata": {},
     "output_type": "execute_result"
    }
   ],
   "source": [
    "## find the game in nba df to determine home team\n",
    "nba2018.loc[nba2018['gameID']=='201901170WAS']"
   ]
  },
  {
   "cell_type": "code",
   "execution_count": 22,
   "metadata": {
    "colab": {
     "base_uri": "https://localhost:8080/",
     "height": 102
    },
    "colab_type": "code",
    "id": "lhScR8X8sxu_",
    "outputId": "053d729f-30a9-4a07-fe97-ab4912d5bc8b"
   },
   "outputs": [],
   "source": [
    "## change the value for home and away team\n",
    "odds2018['VH'].iloc[[1329]] = 'H'\n",
    "odds2018['VH'].iloc[[1328]] = 'V'"
   ]
  },
  {
   "cell_type": "code",
   "execution_count": 23,
   "metadata": {
    "colab": {
     "base_uri": "https://localhost:8080/",
     "height": 111
    },
    "colab_type": "code",
    "id": "s-JpM79HtGtc",
    "outputId": "831320b5-22df-416d-897e-fa9becfcd117"
   },
   "outputs": [
    {
     "data": {
      "text/html": [
       "<div>\n",
       "<style scoped>\n",
       "    .dataframe tbody tr th:only-of-type {\n",
       "        vertical-align: middle;\n",
       "    }\n",
       "\n",
       "    .dataframe tbody tr th {\n",
       "        vertical-align: top;\n",
       "    }\n",
       "\n",
       "    .dataframe thead th {\n",
       "        text-align: right;\n",
       "    }\n",
       "</style>\n",
       "<table border=\"1\" class=\"dataframe\">\n",
       "  <thead>\n",
       "    <tr style=\"text-align: right;\">\n",
       "      <th></th>\n",
       "      <th>Date</th>\n",
       "      <th>Rot</th>\n",
       "      <th>VH</th>\n",
       "      <th>Team</th>\n",
       "      <th>1st</th>\n",
       "      <th>2nd</th>\n",
       "      <th>3rd</th>\n",
       "      <th>4th</th>\n",
       "      <th>Final</th>\n",
       "      <th>Open</th>\n",
       "      <th>Close</th>\n",
       "      <th>ML</th>\n",
       "      <th>2H</th>\n",
       "    </tr>\n",
       "  </thead>\n",
       "  <tbody>\n",
       "    <tr>\n",
       "      <th>1328</th>\n",
       "      <td>117</td>\n",
       "      <td>541</td>\n",
       "      <td>V</td>\n",
       "      <td>NewYork</td>\n",
       "      <td>30</td>\n",
       "      <td>33</td>\n",
       "      <td>26</td>\n",
       "      <td>11</td>\n",
       "      <td>100</td>\n",
       "      <td>225</td>\n",
       "      <td>229</td>\n",
       "      <td>260</td>\n",
       "      <td>112.5</td>\n",
       "    </tr>\n",
       "    <tr>\n",
       "      <th>1329</th>\n",
       "      <td>117</td>\n",
       "      <td>542</td>\n",
       "      <td>H</td>\n",
       "      <td>Washington</td>\n",
       "      <td>20</td>\n",
       "      <td>33</td>\n",
       "      <td>24</td>\n",
       "      <td>24</td>\n",
       "      <td>101</td>\n",
       "      <td>7</td>\n",
       "      <td>7.5</td>\n",
       "      <td>-330</td>\n",
       "      <td>7.5</td>\n",
       "    </tr>\n",
       "  </tbody>\n",
       "</table>\n",
       "</div>"
      ],
      "text/plain": [
       "      Date  Rot VH        Team  1st  2nd  3rd  4th  Final Open Close   ML  \\\n",
       "1328   117  541  V     NewYork   30   33   26   11    100  225   229  260   \n",
       "1329   117  542  H  Washington   20   33   24   24    101    7   7.5 -330   \n",
       "\n",
       "         2H  \n",
       "1328  112.5  \n",
       "1329    7.5  "
      ]
     },
     "execution_count": 23,
     "metadata": {},
     "output_type": "execute_result"
    }
   ],
   "source": [
    "## check work\n",
    "odds2018.iloc[[1328,1329]]"
   ]
  },
  {
   "cell_type": "code",
   "execution_count": 24,
   "metadata": {
    "colab": {},
    "colab_type": "code",
    "id": "kzd8C0wSB9Es"
   },
   "outputs": [],
   "source": [
    "## convert to datetime object\n",
    "odds2017['date'] = odds2017['Date'].apply(lambda x: convert_to_datetime(x, 2018))\n",
    "odds2018['date'] = odds2018['Date'].apply(lambda x: convert_to_datetime(x, 2019))\n",
    "oddsCurrent['date'] = oddsCurrent['Date'].apply(lambda x: convert_to_datetime(x, 2020))"
   ]
  },
  {
   "cell_type": "code",
   "execution_count": 25,
   "metadata": {
    "colab": {},
    "colab_type": "code",
    "id": "925eQIDWwVQj"
   },
   "outputs": [],
   "source": [
    "## team name to team abbrev dict for mapping\n",
    "team_dict = {'Atlanta':'ATL', 'Boston':'BOS', 'Brooklyn':'BRK','Charlotte':'CHO','Chicago':'CHI','Cleveland':'CLE','Dallas':'DAL', 'Denver':'DEN','Detroit':'DET',\n",
    "             'GoldenState':'GSW', 'Houston':'HOU', 'Indiana':'IND','LAClippers':'LAC','LALakers':'LAL','Memphis':'MEM','Miami':'MIA','Milwaukee':'MIL','Minnesota':'MIN',\n",
    "             'NewOrleans':'NOP','NewYork':'NYK','OklahomaCity':'OKC','Orlando':'ORL','Philadelphia':'PHI','Phoenix':'PHO','Portland':'POR','Sacramento':'SAC',\n",
    "             'SanAntonio':'SAS','Toronto':'TOR','Utah':'UTA','Washington':'WAS'}\n",
    "## change team names to abbrevs\n",
    "odds2017['Team'] = odds2017['Team'].map(team_dict)\n",
    "odds2018['Team'] = odds2018['Team'].map(team_dict)\n",
    "oddsCurrent['Team'] = oddsCurrent['Team'].map(team_dict)"
   ]
  },
  {
   "cell_type": "code",
   "execution_count": 26,
   "metadata": {
    "colab": {},
    "colab_type": "code",
    "id": "slVfFTsdKftq"
   },
   "outputs": [],
   "source": [
    "## seperate into home and away and drop playoff games\n",
    "homeOdds2017 = odds2017.loc[odds2017['VH']=='H'].reset_index(drop=True)[:1230]\n",
    "awayOdds2017 = odds2017.loc[odds2017['VH']=='V'].reset_index(drop=True)[:1230]\n",
    "\n",
    "homeOdds2018 = odds2018.loc[odds2018['VH']=='H'].reset_index(drop=True)[:1230]\n",
    "awayOdds2018 = odds2018.loc[odds2018['VH']=='V'].reset_index(drop=True)[:1230]\n",
    "\n",
    "homeOddsCurrent = oddsCurrent.loc[oddsCurrent['VH']=='H'].reset_index(drop=True)\n",
    "awayOddsCurrent = oddsCurrent.loc[oddsCurrent['VH']=='V'].reset_index(drop=True)"
   ]
  },
  {
   "cell_type": "code",
   "execution_count": 27,
   "metadata": {
    "colab": {},
    "colab_type": "code",
    "id": "XHNgaiS1M8nL"
   },
   "outputs": [],
   "source": [
    "# rename home columns\n",
    "homeOdds2017 = homeOdds2017.rename(columns={'Team': 'homeTeam', 'ML': 'homeOdds'})\n",
    "homeOdds2018 = homeOdds2018.rename(columns={'Team': 'homeTeam', 'ML': 'homeOdds'})\n",
    "homeOddsCurrent = homeOddsCurrent.rename(columns={'Team': 'homeTeam', 'ML': 'homeOdds'})\n",
    "\n",
    "# rename away columns\n",
    "awayOdds2017 = awayOdds2017.rename(columns={'Team': 'awayTeam', 'ML': 'awayOdds'})\n",
    "awayOdds2018 = awayOdds2018.rename(columns={'Team': 'awayTeam', 'ML': 'awayOdds'})\n",
    "awayOddsCurrent = awayOddsCurrent.rename(columns={'Team': 'awayTeam', 'ML': 'awayOdds'})"
   ]
  },
  {
   "cell_type": "code",
   "execution_count": 28,
   "metadata": {
    "colab": {},
    "colab_type": "code",
    "id": "mkoTF7VM6YOf"
   },
   "outputs": [],
   "source": [
    "## create half of the combined df\n",
    "combinedOdds2017 = homeOdds2017[['date','homeTeam','homeOdds']]\n",
    "combinedOdds2018 = homeOdds2018[['date','homeTeam','homeOdds']]\n",
    "combinedOddsCurrent = homeOddsCurrent[['date','homeTeam','homeOdds']]"
   ]
  },
  {
   "cell_type": "code",
   "execution_count": 29,
   "metadata": {
    "colab": {
     "base_uri": "https://localhost:8080/",
     "height": 629
    },
    "colab_type": "code",
    "id": "fJF0AAmYOpLK",
    "outputId": "54091285-f847-47aa-8f5c-598717c7ab93"
   },
   "outputs": [
    {
     "name": "stderr",
     "output_type": "stream",
     "text": [
      "/home/sdotjr/anaconda3/lib/python3.7/site-packages/ipykernel_launcher.py:2: SettingWithCopyWarning: \n",
      "A value is trying to be set on a copy of a slice from a DataFrame.\n",
      "Try using .loc[row_indexer,col_indexer] = value instead\n",
      "\n",
      "See the caveats in the documentation: http://pandas.pydata.org/pandas-docs/stable/user_guide/indexing.html#returning-a-view-versus-a-copy\n",
      "  \n",
      "/home/sdotjr/anaconda3/lib/python3.7/site-packages/ipykernel_launcher.py:3: SettingWithCopyWarning: \n",
      "A value is trying to be set on a copy of a slice from a DataFrame.\n",
      "Try using .loc[row_indexer,col_indexer] = value instead\n",
      "\n",
      "See the caveats in the documentation: http://pandas.pydata.org/pandas-docs/stable/user_guide/indexing.html#returning-a-view-versus-a-copy\n",
      "  This is separate from the ipykernel package so we can avoid doing imports until\n",
      "/home/sdotjr/anaconda3/lib/python3.7/site-packages/ipykernel_launcher.py:5: SettingWithCopyWarning: \n",
      "A value is trying to be set on a copy of a slice from a DataFrame.\n",
      "Try using .loc[row_indexer,col_indexer] = value instead\n",
      "\n",
      "See the caveats in the documentation: http://pandas.pydata.org/pandas-docs/stable/user_guide/indexing.html#returning-a-view-versus-a-copy\n",
      "  \"\"\"\n",
      "/home/sdotjr/anaconda3/lib/python3.7/site-packages/ipykernel_launcher.py:6: SettingWithCopyWarning: \n",
      "A value is trying to be set on a copy of a slice from a DataFrame.\n",
      "Try using .loc[row_indexer,col_indexer] = value instead\n",
      "\n",
      "See the caveats in the documentation: http://pandas.pydata.org/pandas-docs/stable/user_guide/indexing.html#returning-a-view-versus-a-copy\n",
      "  \n",
      "/home/sdotjr/anaconda3/lib/python3.7/site-packages/ipykernel_launcher.py:8: SettingWithCopyWarning: \n",
      "A value is trying to be set on a copy of a slice from a DataFrame.\n",
      "Try using .loc[row_indexer,col_indexer] = value instead\n",
      "\n",
      "See the caveats in the documentation: http://pandas.pydata.org/pandas-docs/stable/user_guide/indexing.html#returning-a-view-versus-a-copy\n",
      "  \n",
      "/home/sdotjr/anaconda3/lib/python3.7/site-packages/ipykernel_launcher.py:9: SettingWithCopyWarning: \n",
      "A value is trying to be set on a copy of a slice from a DataFrame.\n",
      "Try using .loc[row_indexer,col_indexer] = value instead\n",
      "\n",
      "See the caveats in the documentation: http://pandas.pydata.org/pandas-docs/stable/user_guide/indexing.html#returning-a-view-versus-a-copy\n",
      "  if __name__ == '__main__':\n"
     ]
    }
   ],
   "source": [
    "## add in away columns\n",
    "combinedOdds2017['awayOdds'] = awayOdds2017['awayOdds']\n",
    "combinedOdds2017['awayTeam'] = awayOdds2017['awayTeam']\n",
    "\n",
    "combinedOdds2018['awayOdds'] = awayOdds2018['awayOdds']\n",
    "combinedOdds2018['awayTeam'] = awayOdds2018['awayTeam']\n",
    "\n",
    "combinedOddsCurrent['awayOdds'] = awayOddsCurrent['awayOdds']\n",
    "combinedOddsCurrent['awayTeam'] = awayOddsCurrent['awayTeam']"
   ]
  },
  {
   "cell_type": "code",
   "execution_count": 30,
   "metadata": {
    "colab": {},
    "colab_type": "code",
    "id": "VzkoyLYDxbU4"
   },
   "outputs": [],
   "source": [
    "## sort odds df to line both dfs up\n",
    "sortedOdds2017 = combinedOdds2017.sort_values(by=['date','homeTeam'])\n",
    "\n",
    "sortedOdds2018 = combinedOdds2018.sort_values(by=['date','homeTeam'])\n",
    "\n",
    "sortedOddsCurrent = combinedOddsCurrent.sort_values(by=['date','homeTeam'])"
   ]
  },
  {
   "cell_type": "code",
   "execution_count": 31,
   "metadata": {
    "colab": {},
    "colab_type": "code",
    "id": "7OyNBGQGyQEh"
   },
   "outputs": [],
   "source": [
    "## sort nba df\n",
    "sortedNba2017 = nba2017.sort_values(by=['date','homeTeam'])\n",
    "sortedNba2018 = nba2018.sort_values(by=['date','homeTeam'])\n",
    "sortedNbaCurrent = nbaCurrent.sort_values(by=['date','homeTeam'])"
   ]
  },
  {
   "cell_type": "markdown",
   "metadata": {
    "colab_type": "text",
    "id": "4KlwHes2MYtc"
   },
   "source": [
    "We have more recent data for the current NBA results right now than for the odds, so I'll drop the extra to give them the same shape."
   ]
  },
  {
   "cell_type": "code",
   "execution_count": 32,
   "metadata": {
    "colab": {
     "base_uri": "https://localhost:8080/",
     "height": 34
    },
    "colab_type": "code",
    "id": "s34rroBDL-R4",
    "outputId": "df41b14c-c7de-4209-b61c-ce92a1fae793"
   },
   "outputs": [
    {
     "data": {
      "text/plain": [
       "(805, 86)"
      ]
     },
     "execution_count": 32,
     "metadata": {},
     "output_type": "execute_result"
    }
   ],
   "source": [
    "sortedNbaCurrent.shape"
   ]
  },
  {
   "cell_type": "code",
   "execution_count": 33,
   "metadata": {
    "colab": {
     "base_uri": "https://localhost:8080/",
     "height": 34
    },
    "colab_type": "code",
    "id": "hGrXH_s_P08b",
    "outputId": "11b71f0c-cd19-4444-896a-32a4ed2ec181"
   },
   "outputs": [
    {
     "data": {
      "text/plain": [
       "(692, 5)"
      ]
     },
     "execution_count": 33,
     "metadata": {},
     "output_type": "execute_result"
    }
   ],
   "source": [
    "sortedOddsCurrent.shape"
   ]
  },
  {
   "cell_type": "code",
   "execution_count": 34,
   "metadata": {
    "colab": {},
    "colab_type": "code",
    "id": "Q0xXpvk8MImk"
   },
   "outputs": [],
   "source": [
    "sortedNbaCurrent = sortedNbaCurrent[:692]"
   ]
  },
  {
   "cell_type": "code",
   "execution_count": 35,
   "metadata": {
    "colab": {
     "base_uri": "https://localhost:8080/",
     "height": 34
    },
    "colab_type": "code",
    "id": "Dw2_IjkWMV1e",
    "outputId": "4a4da379-472e-4d63-fac6-a443aa5dbfb9"
   },
   "outputs": [
    {
     "data": {
      "text/plain": [
       "(692, 86)"
      ]
     },
     "execution_count": 35,
     "metadata": {},
     "output_type": "execute_result"
    }
   ],
   "source": [
    "sortedNbaCurrent.shape"
   ]
  },
  {
   "cell_type": "code",
   "execution_count": 36,
   "metadata": {
    "colab": {
     "base_uri": "https://localhost:8080/",
     "height": 359
    },
    "colab_type": "code",
    "id": "9sGlEUgwF24f",
    "outputId": "98825838-7bfc-40f8-eab9-f942b59e5bd0"
   },
   "outputs": [
    {
     "data": {
      "text/html": [
       "<div>\n",
       "<style scoped>\n",
       "    .dataframe tbody tr th:only-of-type {\n",
       "        vertical-align: middle;\n",
       "    }\n",
       "\n",
       "    .dataframe tbody tr th {\n",
       "        vertical-align: top;\n",
       "    }\n",
       "\n",
       "    .dataframe thead th {\n",
       "        text-align: right;\n",
       "    }\n",
       "</style>\n",
       "<table border=\"1\" class=\"dataframe\">\n",
       "  <thead>\n",
       "    <tr style=\"text-align: right;\">\n",
       "      <th></th>\n",
       "      <th>date</th>\n",
       "      <th>homeTeam</th>\n",
       "      <th>homeOdds</th>\n",
       "      <th>awayOdds</th>\n",
       "      <th>awayTeam</th>\n",
       "    </tr>\n",
       "  </thead>\n",
       "  <tbody>\n",
       "    <tr>\n",
       "      <th>683</th>\n",
       "      <td>2020-01-25</td>\n",
       "      <td>PHI</td>\n",
       "      <td>185</td>\n",
       "      <td>-230</td>\n",
       "      <td>LAL</td>\n",
       "    </tr>\n",
       "    <tr>\n",
       "      <th>679</th>\n",
       "      <td>2020-01-25</td>\n",
       "      <td>UTA</td>\n",
       "      <td>-210</td>\n",
       "      <td>175</td>\n",
       "      <td>DAL</td>\n",
       "    </tr>\n",
       "    <tr>\n",
       "      <th>690</th>\n",
       "      <td>2020-01-26</td>\n",
       "      <td>ATL</td>\n",
       "      <td>-115</td>\n",
       "      <td>-105</td>\n",
       "      <td>WAS</td>\n",
       "    </tr>\n",
       "    <tr>\n",
       "      <th>684</th>\n",
       "      <td>2020-01-26</td>\n",
       "      <td>DEN</td>\n",
       "      <td>-140</td>\n",
       "      <td>120</td>\n",
       "      <td>HOU</td>\n",
       "    </tr>\n",
       "    <tr>\n",
       "      <th>687</th>\n",
       "      <td>2020-01-26</td>\n",
       "      <td>MEM</td>\n",
       "      <td>-135</td>\n",
       "      <td>115</td>\n",
       "      <td>PHO</td>\n",
       "    </tr>\n",
       "    <tr>\n",
       "      <th>686</th>\n",
       "      <td>2020-01-26</td>\n",
       "      <td>NOP</td>\n",
       "      <td>-125</td>\n",
       "      <td>105</td>\n",
       "      <td>BOS</td>\n",
       "    </tr>\n",
       "    <tr>\n",
       "      <th>689</th>\n",
       "      <td>2020-01-26</td>\n",
       "      <td>NYK</td>\n",
       "      <td>-140</td>\n",
       "      <td>120</td>\n",
       "      <td>BRK</td>\n",
       "    </tr>\n",
       "    <tr>\n",
       "      <th>688</th>\n",
       "      <td>2020-01-26</td>\n",
       "      <td>ORL</td>\n",
       "      <td>135</td>\n",
       "      <td>-155</td>\n",
       "      <td>LAC</td>\n",
       "    </tr>\n",
       "    <tr>\n",
       "      <th>691</th>\n",
       "      <td>2020-01-26</td>\n",
       "      <td>POR</td>\n",
       "      <td>-150</td>\n",
       "      <td>130</td>\n",
       "      <td>IND</td>\n",
       "    </tr>\n",
       "    <tr>\n",
       "      <th>685</th>\n",
       "      <td>2020-01-26</td>\n",
       "      <td>SAS</td>\n",
       "      <td>145</td>\n",
       "      <td>-170</td>\n",
       "      <td>TOR</td>\n",
       "    </tr>\n",
       "  </tbody>\n",
       "</table>\n",
       "</div>"
      ],
      "text/plain": [
       "           date homeTeam  homeOdds  awayOdds awayTeam\n",
       "683  2020-01-25      PHI       185      -230      LAL\n",
       "679  2020-01-25      UTA      -210       175      DAL\n",
       "690  2020-01-26      ATL      -115      -105      WAS\n",
       "684  2020-01-26      DEN      -140       120      HOU\n",
       "687  2020-01-26      MEM      -135       115      PHO\n",
       "686  2020-01-26      NOP      -125       105      BOS\n",
       "689  2020-01-26      NYK      -140       120      BRK\n",
       "688  2020-01-26      ORL       135      -155      LAC\n",
       "691  2020-01-26      POR      -150       130      IND\n",
       "685  2020-01-26      SAS       145      -170      TOR"
      ]
     },
     "execution_count": 36,
     "metadata": {},
     "output_type": "execute_result"
    }
   ],
   "source": [
    "sortedOddsCurrent.tail(10)"
   ]
  },
  {
   "cell_type": "code",
   "execution_count": 37,
   "metadata": {
    "colab": {
     "base_uri": "https://localhost:8080/",
     "height": 359
    },
    "colab_type": "code",
    "id": "PfYgW1TdGvMO",
    "outputId": "1eb96752-51a1-4488-c75f-75188889cd78"
   },
   "outputs": [
    {
     "data": {
      "text/html": [
       "<div>\n",
       "<style scoped>\n",
       "    .dataframe tbody tr th:only-of-type {\n",
       "        vertical-align: middle;\n",
       "    }\n",
       "\n",
       "    .dataframe tbody tr th {\n",
       "        vertical-align: top;\n",
       "    }\n",
       "\n",
       "    .dataframe thead th {\n",
       "        text-align: right;\n",
       "    }\n",
       "</style>\n",
       "<table border=\"1\" class=\"dataframe\">\n",
       "  <thead>\n",
       "    <tr style=\"text-align: right;\">\n",
       "      <th></th>\n",
       "      <th>date</th>\n",
       "      <th>homeTeam</th>\n",
       "      <th>awayTeam</th>\n",
       "    </tr>\n",
       "  </thead>\n",
       "  <tbody>\n",
       "    <tr>\n",
       "      <th>682</th>\n",
       "      <td>2020-01-25</td>\n",
       "      <td>PHI</td>\n",
       "      <td>LAL</td>\n",
       "    </tr>\n",
       "    <tr>\n",
       "      <th>683</th>\n",
       "      <td>2020-01-25</td>\n",
       "      <td>UTA</td>\n",
       "      <td>DAL</td>\n",
       "    </tr>\n",
       "    <tr>\n",
       "      <th>684</th>\n",
       "      <td>2020-01-26</td>\n",
       "      <td>ATL</td>\n",
       "      <td>WAS</td>\n",
       "    </tr>\n",
       "    <tr>\n",
       "      <th>685</th>\n",
       "      <td>2020-01-26</td>\n",
       "      <td>DEN</td>\n",
       "      <td>HOU</td>\n",
       "    </tr>\n",
       "    <tr>\n",
       "      <th>686</th>\n",
       "      <td>2020-01-26</td>\n",
       "      <td>MEM</td>\n",
       "      <td>PHO</td>\n",
       "    </tr>\n",
       "    <tr>\n",
       "      <th>687</th>\n",
       "      <td>2020-01-26</td>\n",
       "      <td>NOP</td>\n",
       "      <td>BOS</td>\n",
       "    </tr>\n",
       "    <tr>\n",
       "      <th>688</th>\n",
       "      <td>2020-01-26</td>\n",
       "      <td>NYK</td>\n",
       "      <td>BRK</td>\n",
       "    </tr>\n",
       "    <tr>\n",
       "      <th>689</th>\n",
       "      <td>2020-01-26</td>\n",
       "      <td>ORL</td>\n",
       "      <td>LAC</td>\n",
       "    </tr>\n",
       "    <tr>\n",
       "      <th>690</th>\n",
       "      <td>2020-01-26</td>\n",
       "      <td>POR</td>\n",
       "      <td>IND</td>\n",
       "    </tr>\n",
       "    <tr>\n",
       "      <th>691</th>\n",
       "      <td>2020-01-26</td>\n",
       "      <td>SAS</td>\n",
       "      <td>TOR</td>\n",
       "    </tr>\n",
       "  </tbody>\n",
       "</table>\n",
       "</div>"
      ],
      "text/plain": [
       "           date homeTeam awayTeam\n",
       "682  2020-01-25      PHI      LAL\n",
       "683  2020-01-25      UTA      DAL\n",
       "684  2020-01-26      ATL      WAS\n",
       "685  2020-01-26      DEN      HOU\n",
       "686  2020-01-26      MEM      PHO\n",
       "687  2020-01-26      NOP      BOS\n",
       "688  2020-01-26      NYK      BRK\n",
       "689  2020-01-26      ORL      LAC\n",
       "690  2020-01-26      POR      IND\n",
       "691  2020-01-26      SAS      TOR"
      ]
     },
     "execution_count": 37,
     "metadata": {},
     "output_type": "execute_result"
    }
   ],
   "source": [
    "sortedNbaCurrent[['date','homeTeam','awayTeam']].tail(10)"
   ]
  },
  {
   "cell_type": "markdown",
   "metadata": {
    "colab_type": "text",
    "id": "lRvUeokhzSKW"
   },
   "source": [
    "##### Now that the two dfs have the exact same shape and format, it's time to tack on the money line column."
   ]
  },
  {
   "cell_type": "code",
   "execution_count": 38,
   "metadata": {
    "colab": {},
    "colab_type": "code",
    "id": "GuIdUo_G1aX4"
   },
   "outputs": [],
   "source": [
    "## add home and away money line column\n",
    "sortedNba2017['homeOdds'] = sortedOdds2017['homeOdds']\n",
    "sortedNba2017['awayOdds'] = sortedOdds2017['awayOdds']\n",
    "\n",
    "sortedNba2018['homeOdds'] = sortedOdds2018['homeOdds']\n",
    "sortedNba2018['awayOdds'] = sortedOdds2018['awayOdds']\n",
    "\n",
    "sortedNbaCurrent['homeOdds'] = sortedOddsCurrent['homeOdds']\n",
    "sortedNbaCurrent['awayOdds'] = sortedOddsCurrent['awayOdds']"
   ]
  },
  {
   "cell_type": "code",
   "execution_count": 39,
   "metadata": {
    "colab": {
     "base_uri": "https://localhost:8080/",
     "height": 359
    },
    "colab_type": "code",
    "id": "kTGohEdycXjO",
    "outputId": "8c0bb826-8d63-4bd4-a31b-3d7a03c63bc1"
   },
   "outputs": [
    {
     "data": {
      "text/html": [
       "<div>\n",
       "<style scoped>\n",
       "    .dataframe tbody tr th:only-of-type {\n",
       "        vertical-align: middle;\n",
       "    }\n",
       "\n",
       "    .dataframe tbody tr th {\n",
       "        vertical-align: top;\n",
       "    }\n",
       "\n",
       "    .dataframe thead th {\n",
       "        text-align: right;\n",
       "    }\n",
       "</style>\n",
       "<table border=\"1\" class=\"dataframe\">\n",
       "  <thead>\n",
       "    <tr style=\"text-align: right;\">\n",
       "      <th></th>\n",
       "      <th>date</th>\n",
       "      <th>homeTeam</th>\n",
       "      <th>awayTeam</th>\n",
       "      <th>homeOdds</th>\n",
       "      <th>awayOdds</th>\n",
       "    </tr>\n",
       "  </thead>\n",
       "  <tbody>\n",
       "    <tr>\n",
       "      <th>682</th>\n",
       "      <td>2020-01-25</td>\n",
       "      <td>PHI</td>\n",
       "      <td>LAL</td>\n",
       "      <td>-125</td>\n",
       "      <td>105</td>\n",
       "    </tr>\n",
       "    <tr>\n",
       "      <th>683</th>\n",
       "      <td>2020-01-25</td>\n",
       "      <td>UTA</td>\n",
       "      <td>DAL</td>\n",
       "      <td>185</td>\n",
       "      <td>-230</td>\n",
       "    </tr>\n",
       "    <tr>\n",
       "      <th>684</th>\n",
       "      <td>2020-01-26</td>\n",
       "      <td>ATL</td>\n",
       "      <td>WAS</td>\n",
       "      <td>-140</td>\n",
       "      <td>120</td>\n",
       "    </tr>\n",
       "    <tr>\n",
       "      <th>685</th>\n",
       "      <td>2020-01-26</td>\n",
       "      <td>DEN</td>\n",
       "      <td>HOU</td>\n",
       "      <td>145</td>\n",
       "      <td>-170</td>\n",
       "    </tr>\n",
       "    <tr>\n",
       "      <th>686</th>\n",
       "      <td>2020-01-26</td>\n",
       "      <td>MEM</td>\n",
       "      <td>PHO</td>\n",
       "      <td>-125</td>\n",
       "      <td>105</td>\n",
       "    </tr>\n",
       "    <tr>\n",
       "      <th>687</th>\n",
       "      <td>2020-01-26</td>\n",
       "      <td>NOP</td>\n",
       "      <td>BOS</td>\n",
       "      <td>-135</td>\n",
       "      <td>115</td>\n",
       "    </tr>\n",
       "    <tr>\n",
       "      <th>688</th>\n",
       "      <td>2020-01-26</td>\n",
       "      <td>NYK</td>\n",
       "      <td>BRK</td>\n",
       "      <td>135</td>\n",
       "      <td>-155</td>\n",
       "    </tr>\n",
       "    <tr>\n",
       "      <th>689</th>\n",
       "      <td>2020-01-26</td>\n",
       "      <td>ORL</td>\n",
       "      <td>LAC</td>\n",
       "      <td>-140</td>\n",
       "      <td>120</td>\n",
       "    </tr>\n",
       "    <tr>\n",
       "      <th>690</th>\n",
       "      <td>2020-01-26</td>\n",
       "      <td>POR</td>\n",
       "      <td>IND</td>\n",
       "      <td>-115</td>\n",
       "      <td>-105</td>\n",
       "    </tr>\n",
       "    <tr>\n",
       "      <th>691</th>\n",
       "      <td>2020-01-26</td>\n",
       "      <td>SAS</td>\n",
       "      <td>TOR</td>\n",
       "      <td>-150</td>\n",
       "      <td>130</td>\n",
       "    </tr>\n",
       "  </tbody>\n",
       "</table>\n",
       "</div>"
      ],
      "text/plain": [
       "           date homeTeam awayTeam  homeOdds  awayOdds\n",
       "682  2020-01-25      PHI      LAL      -125       105\n",
       "683  2020-01-25      UTA      DAL       185      -230\n",
       "684  2020-01-26      ATL      WAS      -140       120\n",
       "685  2020-01-26      DEN      HOU       145      -170\n",
       "686  2020-01-26      MEM      PHO      -125       105\n",
       "687  2020-01-26      NOP      BOS      -135       115\n",
       "688  2020-01-26      NYK      BRK       135      -155\n",
       "689  2020-01-26      ORL      LAC      -140       120\n",
       "690  2020-01-26      POR      IND      -115      -105\n",
       "691  2020-01-26      SAS      TOR      -150       130"
      ]
     },
     "execution_count": 39,
     "metadata": {},
     "output_type": "execute_result"
    }
   ],
   "source": [
    "sortedNbaCurrent[['date','homeTeam','awayTeam','homeOdds','awayOdds']].tail(10)"
   ]
  },
  {
   "cell_type": "markdown",
   "metadata": {
    "colab_type": "text",
    "id": "lZhfFgiu2r9F"
   },
   "source": [
    "## Transform the Data\n"
   ]
  },
  {
   "cell_type": "code",
   "execution_count": 40,
   "metadata": {
    "colab": {
     "base_uri": "https://localhost:8080/",
     "height": 102
    },
    "colab_type": "code",
    "id": "90zkHx8e2Bj-",
    "outputId": "4f622e90-7e4c-4b49-8052-a90aec8136a9"
   },
   "outputs": [],
   "source": [
    "## apply our transformation\n",
    "avg2017 = avg_previous_num_games(sortedNba2017, 3)\n",
    "avg2018 = avg_previous_num_games(sortedNba2018, 3)\n",
    "nba_test = avg_previous_num_games(sortedNbaCurrent, 3)"
   ]
  },
  {
   "cell_type": "code",
   "execution_count": 41,
   "metadata": {
    "colab": {
     "base_uri": "https://localhost:8080/",
     "height": 34
    },
    "colab_type": "code",
    "id": "AcIrn5ExUnla",
    "outputId": "b74b2c2e-a637-4994-a99b-cb4adf2eb74b"
   },
   "outputs": [
    {
     "data": {
      "text/plain": [
       "(590, 88)"
      ]
     },
     "execution_count": 41,
     "metadata": {},
     "output_type": "execute_result"
    }
   ],
   "source": [
    "nba_test.shape"
   ]
  },
  {
   "cell_type": "code",
   "execution_count": 42,
   "metadata": {
    "colab": {},
    "colab_type": "code",
    "id": "Z1UqIMK0hixu"
   },
   "outputs": [],
   "source": [
    "nba_test.reset_index(drop=True, inplace=True)"
   ]
  },
  {
   "cell_type": "code",
   "execution_count": 43,
   "metadata": {
    "colab": {},
    "colab_type": "code",
    "id": "Uq6NbmEt5NeB"
   },
   "outputs": [],
   "source": [
    "## combine the two dfs\n",
    "nba_final = pd.concat([avg2017, avg2018])"
   ]
  },
  {
   "cell_type": "code",
   "execution_count": 44,
   "metadata": {
    "colab": {
     "base_uri": "https://localhost:8080/",
     "height": 34
    },
    "colab_type": "code",
    "id": "aVA6IBWqacab",
    "outputId": "b1b8e175-4453-412a-b2e4-2e9fdf437102"
   },
   "outputs": [
    {
     "data": {
      "text/plain": [
       "(2251, 88)"
      ]
     },
     "execution_count": 44,
     "metadata": {},
     "output_type": "execute_result"
    }
   ],
   "source": [
    "nba_final.shape"
   ]
  },
  {
   "cell_type": "markdown",
   "metadata": {
    "colab_type": "text",
    "id": "uV13YF2T7c3b"
   },
   "source": [
    "## Initial DBA\n"
   ]
  },
  {
   "cell_type": "code",
   "execution_count": 45,
   "metadata": {
    "colab": {
     "base_uri": "https://localhost:8080/",
     "height": 296
    },
    "colab_type": "code",
    "id": "Dn51Atd3_Vaj",
    "outputId": "0e40fad9-a0f9-4d2f-e210-435e0e34dd2b"
   },
   "outputs": [
    {
     "data": {
      "text/plain": [
       "<matplotlib.axes._subplots.AxesSubplot at 0x7f055d1c4150>"
      ]
     },
     "execution_count": 45,
     "metadata": {},
     "output_type": "execute_result"
    },
    {
     "data": {
      "image/png": "[encoded data removed]",
      "text/plain": [
       "<Figure size 432x288 with 1 Axes>"
      ]
     },
     "metadata": {
      "needs_background": "light"
     },
     "output_type": "display_data"
    }
   ],
   "source": [
    "## home money line distribution\n",
    "sns.distplot(nba_final['homeOdds'])"
   ]
  },
  {
   "cell_type": "code",
   "execution_count": 46,
   "metadata": {
    "colab": {
     "base_uri": "https://localhost:8080/",
     "height": 297
    },
    "colab_type": "code",
    "id": "JH-175LVSTYj",
    "outputId": "dc447e6b-357f-4577-a4db-47e4b47e6542"
   },
   "outputs": [
    {
     "data": {
      "text/plain": [
       "<matplotlib.axes._subplots.AxesSubplot at 0x7f055a153e10>"
      ]
     },
     "execution_count": 46,
     "metadata": {},
     "output_type": "execute_result"
    },
    {
     "data": {
      "image/png": "[encoded data removed]",
      "text/plain": [
       "<Figure size 432x288 with 1 Axes>"
      ]
     },
     "metadata": {
      "needs_background": "light"
     },
     "output_type": "display_data"
    }
   ],
   "source": [
    "## away money line distribution\n",
    "sns.distplot(nba_final['awayOdds'])"
   ]
  },
  {
   "cell_type": "code",
   "execution_count": 47,
   "metadata": {
    "colab": {
     "base_uri": "https://localhost:8080/",
     "height": 297
    },
    "colab_type": "code",
    "id": "auvUJ4ye_w_D",
    "outputId": "e86b83d4-4e10-4c47-a0b7-3e8bdaa3111a"
   },
   "outputs": [
    {
     "data": {
      "text/plain": [
       "<matplotlib.axes._subplots.AxesSubplot at 0x7f0559f1fa50>"
      ]
     },
     "execution_count": 47,
     "metadata": {},
     "output_type": "execute_result"
    },
    {
     "data": {
      "image/png": "[encoded data removed]",
      "text/plain": [
       "<Figure size 432x288 with 1 Axes>"
      ]
     },
     "metadata": {
      "needs_background": "light"
     },
     "output_type": "display_data"
    }
   ],
   "source": [
    "## points distribution\n",
    "sns.distplot(nba_final['home_points'])"
   ]
  },
  {
   "cell_type": "markdown",
   "metadata": {
    "colab_type": "text",
    "id": "BfwXD0rL9Pzg"
   },
   "source": [
    "##### Our correlations all seem logical with the away team win total and the home team loss total being the strongest negative correlation to a home win -- essentially representing which team has had more success so far that season."
   ]
  },
  {
   "cell_type": "code",
   "execution_count": 48,
   "metadata": {
    "colab": {},
    "colab_type": "code",
    "id": "tQVx5bzo6bM8"
   },
   "outputs": [],
   "source": [
    "## get correlations to win\n",
    "winCorr = nba_final.corr()['homeWin'].sort_values(ascending=False)"
   ]
  },
  {
   "cell_type": "code",
   "execution_count": 49,
   "metadata": {
    "colab": {
     "base_uri": "https://localhost:8080/",
     "height": 204
    },
    "colab_type": "code",
    "id": "hiPoLjax6yBM",
    "outputId": "aef381d4-063a-4e6a-e2a0-60389b028a35"
   },
   "outputs": [
    {
     "data": {
      "text/plain": [
       "homeWin                                 1.000000\n",
       "home_offensive_rating                   0.185224\n",
       "home_true_shooting_percentage           0.156541\n",
       "home_effective_field_goal_percentage    0.151229\n",
       "home_points                             0.147727\n",
       "away_losses                             0.142922\n",
       "home_total_rebound_percentage           0.136997\n",
       "home_wins                               0.131149\n",
       "away_defensive_rating                   0.096225\n",
       "home_three_point_attempt_rate           0.078068\n",
       "Name: homeWin, dtype: float64"
      ]
     },
     "execution_count": 49,
     "metadata": {},
     "output_type": "execute_result"
    }
   ],
   "source": [
    "## top 10 correlations to home win\n",
    "winCorr.head(10)"
   ]
  },
  {
   "cell_type": "code",
   "execution_count": 50,
   "metadata": {
    "colab": {
     "base_uri": "https://localhost:8080/",
     "height": 204
    },
    "colab_type": "code",
    "id": "zqov0n-p69AP",
    "outputId": "b43dc9ac-5236-4ace-d743-c4a08429dcdc"
   },
   "outputs": [
    {
     "data": {
      "text/plain": [
       "away_three_point_field_goals    -0.083418\n",
       "away_true_shooting_percentage   -0.084823\n",
       "away_points                     -0.087323\n",
       "away_offensive_rating           -0.088623\n",
       "home_defensive_rating           -0.097847\n",
       "home_blocks                     -0.120913\n",
       "home_total_rebounds             -0.124455\n",
       "home_defensive_rebounds         -0.127223\n",
       "away_wins                       -0.138545\n",
       "home_losses                     -0.203298\n",
       "Name: homeWin, dtype: float64"
      ]
     },
     "execution_count": 50,
     "metadata": {},
     "output_type": "execute_result"
    }
   ],
   "source": [
    "## bottom 10 correlations to home win\n",
    "winCorr.tail(10)"
   ]
  },
  {
   "cell_type": "code",
   "execution_count": 51,
   "metadata": {
    "colab": {
     "base_uri": "https://localhost:8080/",
     "height": 806
    },
    "colab_type": "code",
    "id": "qwqU9NOK7CpZ",
    "outputId": "b2350a8c-136e-41b2-9733-fa8bd868187b"
   },
   "outputs": [
    {
     "data": {
      "text/plain": [
       "<matplotlib.axes._subplots.AxesSubplot at 0x7f0559e78ad0>"
      ]
     },
     "execution_count": 51,
     "metadata": {},
     "output_type": "execute_result"
    },
    {
     "data": {
      "image/png": "[encoded data removed]",
      "text/plain": [
       "<Figure size 1080x720 with 2 Axes>"
      ]
     },
     "metadata": {
      "needs_background": "light"
     },
     "output_type": "display_data"
    }
   ],
   "source": [
    "# Correlation heatmap\n",
    "plt.subplots(figsize=(15,10))\n",
    "ax = plt.axes()\n",
    "corr = nba_final.corr()\n",
    "sns.heatmap(corr,cmap = \"Blues\")"
   ]
  },
  {
   "cell_type": "markdown",
   "metadata": {
    "colab_type": "text",
    "id": "PFApfdVx-6xr"
   },
   "source": [
    "##### We have high collinearity among some of our features, mostly in cases where there's a total and a percentage value for one statistic. If we we're going to build a regression model we'd need to address this, but for our classifier, it shouldn't impact predictive performance."
   ]
  },
  {
   "cell_type": "code",
   "execution_count": 52,
   "metadata": {
    "colab": {
     "base_uri": "https://localhost:8080/",
     "height": 459
    },
    "colab_type": "code",
    "id": "zfvazXaZ7vfl",
    "outputId": "fede8761-0860-4d18-e8e8-1da82e7ca9ee"
   },
   "outputs": [
    {
     "data": {
      "text/plain": [
       "awayOdds                              awayOdds                                1.000000\n",
       "away_steal_percentage                 away_steals                             0.984256\n",
       "away_turnovers                        away_turnover_percentage                0.966290\n",
       "away_free_throw_attempts              away_free_throw_attempt_rate            0.965782\n",
       "home_true_shooting_percentage         home_effective_field_goal_percentage    0.964337\n",
       "away_effective_field_goal_percentage  away_true_shooting_percentage           0.962943\n",
       "away_three_point_field_goal_attempts  away_three_point_attempt_rate           0.955601\n",
       "away_block_percentage                 away_blocks                             0.941173\n",
       "home_free_throws                      home_free_throw_attempts                0.935080\n",
       "away_field_goal_percentage            away_effective_field_goal_percentage    0.935055\n",
       "away_free_throw_attempts              away_free_throws                        0.929422\n",
       "away_offensive_rebound_percentage     away_offensive_rebounds                 0.921856\n",
       "away_free_throw_attempt_rate          away_free_throws                        0.905574\n",
       "away_field_goal_percentage            away_true_shooting_percentage           0.904959\n",
       "away_points                           away_field_goals                        0.848261\n",
       "home_offensive_rating                 home_true_shooting_percentage           0.846469\n",
       "away_points                           away_offensive_rating                   0.845379\n",
       "away_offensive_rating                 away_true_shooting_percentage           0.843891\n",
       "home_offensive_rating                 home_points                             0.842823\n",
       "home_total_rebounds                   home_defensive_rebounds                 0.840955\n",
       "away_total_rebounds                   away_defensive_rebounds                 0.836379\n",
       "away_assists                          away_assist_percentage                  0.831216\n",
       "home_offensive_rating                 home_effective_field_goal_percentage    0.810967\n",
       "away_effective_field_goal_percentage  away_offensive_rating                   0.810077\n",
       "home_two_point_field_goal_percentage  home_field_goal_percentage              0.809115\n",
       "dtype: float64"
      ]
     },
     "execution_count": 52,
     "metadata": {},
     "output_type": "execute_result"
    }
   ],
   "source": [
    "## list of the top 25 positive correlations\n",
    "top25_corr_pos = nba_final.corr().unstack().sort_values(ascending=False).drop_duplicates()\n",
    "top25_corr_pos.head(25)"
   ]
  },
  {
   "cell_type": "code",
   "execution_count": 53,
   "metadata": {
    "colab": {
     "base_uri": "https://localhost:8080/",
     "height": 459
    },
    "colab_type": "code",
    "id": "q9bj3Zli-JVQ",
    "outputId": "4425f47e-a10e-4e6a-eefd-210aa44cc57b"
   },
   "outputs": [
    {
     "data": {
      "text/plain": [
       "home_defensive_rebound_percentage     home_offensive_rebounds                -0.910098\n",
       "away_two_point_field_goal_attempts    away_three_point_attempt_rate          -0.874806\n",
       "homeOdds                              awayOdds                               -0.870390\n",
       "away_two_point_field_goal_attempts    away_three_point_field_goal_attempts   -0.699835\n",
       "home_total_rebound_percentage         home_total_rebounds                    -0.687128\n",
       "home_defensive_rebounds               home_true_shooting_percentage          -0.635123\n",
       "away_two_point_field_goals            away_three_point_attempt_rate          -0.621524\n",
       "away_three_point_field_goals          away_two_point_field_goal_attempts     -0.612659\n",
       "home_effective_field_goal_percentage  home_defensive_rebounds                -0.603563\n",
       "home_offensive_rating                 home_defensive_rebounds                -0.588364\n",
       "home_three_point_field_goal_attempts  home_two_point_field_goal_attempts     -0.548963\n",
       "away_defensive_rating                 away_defensive_rebounds                -0.547944\n",
       "home_defensive_rebounds               home_total_rebound_percentage          -0.547006\n",
       "away_three_point_field_goal_attempts  away_two_point_field_goals             -0.490052\n",
       "home_true_shooting_percentage         home_total_rebounds                    -0.479735\n",
       "home_two_point_field_goal_attempts    home_three_point_field_goals           -0.468607\n",
       "away_field_goal_attempts              away_turnover_percentage               -0.462304\n",
       "home_effective_field_goal_percentage  home_total_rebounds                    -0.460501\n",
       "away_three_point_field_goals          away_two_point_field_goals             -0.455393\n",
       "home_total_rebounds                   home_offensive_rating                  -0.448442\n",
       "home_defensive_rebound_percentage     home_total_rebounds                    -0.447166\n",
       "home_offensive_rebound_percentage     home_defensive_rebounds                -0.433218\n",
       "away_defensive_rating                 away_total_rebounds                    -0.419978\n",
       "home_offensive_rebounds               home_total_rebound_percentage          -0.419507\n",
       "home_total_rebounds                   home_offensive_rebound_percentage      -0.380943\n",
       "dtype: float64"
      ]
     },
     "execution_count": 53,
     "metadata": {},
     "output_type": "execute_result"
    }
   ],
   "source": [
    "## list of the top 25 negative correlations\n",
    "top25_corr_neg = nba_final.corr().unstack().sort_values().drop_duplicates()\n",
    "top25_corr_neg.head(25)"
   ]
  },
  {
   "cell_type": "markdown",
   "metadata": {
    "colab_type": "text",
    "id": "Bmgk_6qWBzMZ"
   },
   "source": [
    "## Feature Selection\n",
    "Here I'll scale our features and reduce dimensionality before moving on to creating models. We'll use the robust scalar from sklearn because it can deal with positive and negative numbers and is robust to outliers, both of which we'll need mostly for our money line feature."
   ]
  },
  {
   "cell_type": "code",
   "execution_count": 54,
   "metadata": {
    "colab": {},
    "colab_type": "code",
    "id": "D4WrKZhDB-6d"
   },
   "outputs": [],
   "source": [
    "## create list of features\n",
    "excluded_from_avg = ['home_wins', 'home_losses', 'away_wins','away_losses','awayOdds','homeOdds']\n",
    "features = away_cols + home_cols + excluded_from_avg"
   ]
  },
  {
   "cell_type": "code",
   "execution_count": 55,
   "metadata": {
    "colab": {},
    "colab_type": "code",
    "id": "pKJoiqgM-nL3"
   },
   "outputs": [],
   "source": [
    "## declare features\n",
    "x = nba_final[features]\n",
    "## declare target variable\n",
    "y = nba_final['homeWin']"
   ]
  },
  {
   "cell_type": "code",
   "execution_count": 56,
   "metadata": {},
   "outputs": [
    {
     "data": {
      "text/plain": [
       "(2251, 76)"
      ]
     },
     "execution_count": 56,
     "metadata": {},
     "output_type": "execute_result"
    }
   ],
   "source": [
    "x.shape"
   ]
  },
  {
   "cell_type": "code",
   "execution_count": 57,
   "metadata": {
    "colab": {},
    "colab_type": "code",
    "id": "RsZVxgqbC40F"
   },
   "outputs": [],
   "source": [
    "## scale the features\n",
    "scaler = RobustScaler()\n",
    "x_scaled = scaler.fit_transform(x)"
   ]
  },
  {
   "cell_type": "markdown",
   "metadata": {
    "colab_type": "text",
    "id": "EtTmvT5XH30-"
   },
   "source": [
    "According to our PCA below, ~35 features explain almost all of the variance. Let's keep 40 features to be safe."
   ]
  },
  {
   "cell_type": "code",
   "execution_count": 58,
   "metadata": {
    "colab": {
     "base_uri": "https://localhost:8080/",
     "height": 0
    },
    "colab_type": "code",
    "id": "WYLtZtSVHrKN",
    "outputId": "9bc5f3ff-d4eb-4345-dade-7cbe964cee59"
   },
   "outputs": [
    {
     "data": {
      "image/png": "[encoded data removed]",
      "text/plain": [
       "<Figure size 432x288 with 1 Axes>"
      ]
     },
     "metadata": {
      "needs_background": "light"
     },
     "output_type": "display_data"
    }
   ],
   "source": [
    "#Fitting the PCA algorithm with our Data\n",
    "pca = PCA().fit(x_scaled)\n",
    "#Plotting the Cumulative Summation of the Explained Variance\n",
    "plt.figure()\n",
    "plt.plot(np.cumsum(pca.explained_variance_ratio_))\n",
    "plt.xlabel('Number of Components')\n",
    "plt.ylabel('Variance (%)') #for each component\n",
    "plt.title('Explained Variance')\n",
    "plt.show()"
   ]
  },
  {
   "cell_type": "code",
   "execution_count": 59,
   "metadata": {
    "colab": {},
    "colab_type": "code",
    "id": "HAyt7p8aHzxI"
   },
   "outputs": [],
   "source": [
    "## keep 30 components\n",
    "x_pca = PCA(40).fit_transform(x_scaled)"
   ]
  },
  {
   "cell_type": "markdown",
   "metadata": {
    "colab_type": "text",
    "id": "JuqTgXL8IBHe"
   },
   "source": [
    "## Let's Build Some Models!\n",
    "We'll compare them using the f1 score from sklearn to describe their accuracy."
   ]
  },
  {
   "cell_type": "code",
   "execution_count": 60,
   "metadata": {
    "colab": {},
    "colab_type": "code",
    "id": "zfnng58hH_RX"
   },
   "outputs": [],
   "source": [
    "## create our model accuracy scorer\n",
    "scorer = make_scorer(f1_score, pos_label=None, average='weighted')"
   ]
  },
  {
   "cell_type": "markdown",
   "metadata": {
    "colab_type": "text",
    "id": "f16jN4SaIL5M"
   },
   "source": [
    "#### Naive Bayes"
   ]
  },
  {
   "cell_type": "code",
   "execution_count": 61,
   "metadata": {
    "colab": {},
    "colab_type": "code",
    "id": "NhjSWvcCII3o"
   },
   "outputs": [],
   "source": [
    "# Our data is continuous, so we'll use the Gaussian Classifier \n",
    "from sklearn.naive_bayes import GaussianNB\n",
    "gnb = GaussianNB()"
   ]
  },
  {
   "cell_type": "code",
   "execution_count": 62,
   "metadata": {
    "colab": {
     "base_uri": "https://localhost:8080/",
     "height": 34
    },
    "colab_type": "code",
    "id": "KCFhg_yfIOet",
    "outputId": "0bf1394d-2a8e-4801-a680-198aed6dbb41"
   },
   "outputs": [
    {
     "name": "stdout",
     "output_type": "stream",
     "text": [
      "Average Gaussian NB F1: 0.6510273839589721\n"
     ]
    }
   ],
   "source": [
    "## print score\n",
    "print('Average Gaussian NB F1: {}'.format((cross_val_score(gnb, x_pca, y, scoring=scorer)).mean()))"
   ]
  },
  {
   "cell_type": "markdown",
   "metadata": {
    "colab_type": "text",
    "id": "8ukNkLIXISob"
   },
   "source": [
    "#### Decision Tree"
   ]
  },
  {
   "cell_type": "code",
   "execution_count": 63,
   "metadata": {
    "colab": {},
    "colab_type": "code",
    "id": "978xUZaqIQEV"
   },
   "outputs": [],
   "source": [
    "from sklearn import tree\n",
    "clf = tree.DecisionTreeClassifier()"
   ]
  },
  {
   "cell_type": "code",
   "execution_count": 64,
   "metadata": {
    "colab": {
     "base_uri": "https://localhost:8080/",
     "height": 34
    },
    "colab_type": "code",
    "id": "i4kRyP9jIVME",
    "outputId": "15557bd0-5d3b-492e-fa81-e176c3cba967"
   },
   "outputs": [
    {
     "name": "stdout",
     "output_type": "stream",
     "text": [
      "Average Decision Tree F1: 0.5478512615398723\n"
     ]
    }
   ],
   "source": [
    "## print score\n",
    "print('Average Decision Tree F1: {}'.format((cross_val_score(clf, x_pca, y, scoring=scorer)).mean()))"
   ]
  },
  {
   "cell_type": "markdown",
   "metadata": {
    "colab_type": "text",
    "id": "4AtRbSZwIauS"
   },
   "source": [
    "#### Random Forest"
   ]
  },
  {
   "cell_type": "code",
   "execution_count": 65,
   "metadata": {
    "colab": {},
    "colab_type": "code",
    "id": "nPiMnIRZIWRC"
   },
   "outputs": [],
   "source": [
    "from sklearn import ensemble\n",
    "rfc = ensemble.RandomForestClassifier()"
   ]
  },
  {
   "cell_type": "code",
   "execution_count": 66,
   "metadata": {
    "colab": {
     "base_uri": "https://localhost:8080/",
     "height": 34
    },
    "colab_type": "code",
    "id": "v5WuXOnNIcQe",
    "outputId": "e86d17d9-cf80-47eb-f834-a1a2e985ace7"
   },
   "outputs": [
    {
     "name": "stdout",
     "output_type": "stream",
     "text": [
      "Average Random Forest F1 score: 0.6364343578499397\n"
     ]
    }
   ],
   "source": [
    "## print score\n",
    "print('Average Random Forest F1 score: {}'.format((cross_val_score(rfc, x_pca, y, scoring=scorer)).mean()))"
   ]
  },
  {
   "cell_type": "markdown",
   "metadata": {
    "colab_type": "text",
    "id": "ssHQ-FaSIhJ0"
   },
   "source": [
    "#### KNN"
   ]
  },
  {
   "cell_type": "code",
   "execution_count": 67,
   "metadata": {
    "colab": {},
    "colab_type": "code",
    "id": "fE61LpbcId9Q"
   },
   "outputs": [],
   "source": [
    "from sklearn.neighbors import KNeighborsClassifier\n",
    "neighbors = KNeighborsClassifier(n_neighbors=3)"
   ]
  },
  {
   "cell_type": "code",
   "execution_count": 68,
   "metadata": {
    "colab": {
     "base_uri": "https://localhost:8080/",
     "height": 0
    },
    "colab_type": "code",
    "id": "ozRBDOG8IjYL",
    "outputId": "e8572045-c16a-4ffb-8cb3-618fe1d65498"
   },
   "outputs": [
    {
     "name": "stdout",
     "output_type": "stream",
     "text": [
      "Average KNN F1 score: 0.5553087086648063\n"
     ]
    }
   ],
   "source": [
    "## print score\n",
    "print('Average KNN F1 score: {}'.format((cross_val_score(neighbors, x_pca, y, scoring=scorer)).mean()))"
   ]
  },
  {
   "cell_type": "markdown",
   "metadata": {
    "colab_type": "text",
    "id": "Deb1pj7GIoXO"
   },
   "source": [
    "#### Multi-layer Perceptron"
   ]
  },
  {
   "cell_type": "code",
   "execution_count": 69,
   "metadata": {
    "colab": {},
    "colab_type": "code",
    "id": "V_Op5p5RIklK"
   },
   "outputs": [],
   "source": [
    "from sklearn.neural_network import MLPClassifier"
   ]
  },
  {
   "cell_type": "code",
   "execution_count": 70,
   "metadata": {
    "colab": {},
    "colab_type": "code",
    "id": "VYXXaTrWIqfB"
   },
   "outputs": [],
   "source": [
    "# Establish and fit the model, with a single, 100 perceptron layer.\n",
    "mlp100 = MLPClassifier(hidden_layer_sizes=(100,))\n",
    "mlp1000 = MLPClassifier(hidden_layer_sizes=(1000,))"
   ]
  },
  {
   "cell_type": "code",
   "execution_count": 71,
   "metadata": {
    "colab": {
     "base_uri": "https://localhost:8080/",
     "height": 156
    },
    "colab_type": "code",
    "id": "EITaWUm1Ir1H",
    "outputId": "56dcbf96-9d72-478a-de49-43624f9fa4cf"
   },
   "outputs": [
    {
     "name": "stderr",
     "output_type": "stream",
     "text": [
      "/home/sdotjr/anaconda3/lib/python3.7/site-packages/sklearn/neural_network/_multilayer_perceptron.py:585: ConvergenceWarning: Stochastic Optimizer: Maximum iterations (200) reached and the optimization hasn't converged yet.\n",
      "  % self.max_iter, ConvergenceWarning)\n",
      "/home/sdotjr/anaconda3/lib/python3.7/site-packages/sklearn/neural_network/_multilayer_perceptron.py:585: ConvergenceWarning: Stochastic Optimizer: Maximum iterations (200) reached and the optimization hasn't converged yet.\n",
      "  % self.max_iter, ConvergenceWarning)\n"
     ]
    },
    {
     "name": "stdout",
     "output_type": "stream",
     "text": [
      "Average MLP100 F1 score: 0.6506478880162315\n"
     ]
    }
   ],
   "source": [
    "## print score\n",
    "print('Average MLP100 F1 score: {}'.format((cross_val_score(mlp100, x_pca, y, scoring=scorer)).mean()))"
   ]
  },
  {
   "cell_type": "code",
   "execution_count": null,
   "metadata": {
    "colab": {
     "base_uri": "https://localhost:8080/",
     "height": 88
    },
    "colab_type": "code",
    "id": "fsoOTuOD8BaV",
    "outputId": "b7acb949-2592-4362-ee45-7a2db8da9379"
   },
   "outputs": [
    {
     "name": "stderr",
     "output_type": "stream",
     "text": [
      "/home/sdotjr/anaconda3/lib/python3.7/site-packages/sklearn/neural_network/_multilayer_perceptron.py:585: ConvergenceWarning: Stochastic Optimizer: Maximum iterations (200) reached and the optimization hasn't converged yet.\n",
      "  % self.max_iter, ConvergenceWarning)\n",
      "/home/sdotjr/anaconda3/lib/python3.7/site-packages/sklearn/neural_network/_multilayer_perceptron.py:587: UserWarning: Training interrupted by user.\n",
      "  warnings.warn(\"Training interrupted by user.\")\n"
     ]
    }
   ],
   "source": [
    "## print score\n",
    "print('Average MLP1000 F1 score: {}'.format((cross_val_score(mlp1000, x_pca, y, scoring=scorer)).mean()))"
   ]
  },
  {
   "cell_type": "code",
   "execution_count": null,
   "metadata": {},
   "outputs": [],
   "source": [
    "models = ['Decision Tree', 'Neural Network','MLP','Naive Bayes','Random Forest', 'KNN']\n",
    "scores = [cross_val_score(clf, x_pca, y, scoring=scorer).mean(),score[1],cross_val_score(mlp1000, x_pca, y, scoring=scorer).mean(),cross_val_score(gnb, x_pca, y, scoring=scorer).mean(),cross_val_score(neighbors, x_pca, y, scoring=scorer).mean()]\n",
    "\n",
    "plt.barh(models,scores)"
   ]
  },
  {
   "cell_type": "code",
   "execution_count": null,
   "metadata": {},
   "outputs": [],
   "source": [
    "scoresinstrumental"
   ]
  },
  {
   "cell_type": "markdown",
   "metadata": {
    "colab_type": "text",
    "id": "1ph2y9_MI1LQ"
   },
   "source": [
    "## Keras / TensorFlow Neural Network"
   ]
  },
  {
   "cell_type": "code",
   "execution_count": null,
   "metadata": {
    "colab": {
     "base_uri": "https://localhost:8080/",
     "height": 80
    },
    "colab_type": "code",
    "id": "YEfxZQqwItRt",
    "outputId": "013f6196-d195-43db-9577-d9013e53072a"
   },
   "outputs": [],
   "source": [
    "import tensorflow as tf\n",
    "from keras.models import Sequential\n",
    "from keras.layers import Dense, Dropout, Flatten, Conv2D, MaxPooling2D\n",
    "from keras.layers import LSTM, Input, TimeDistributed\n",
    "from keras.models import Model\n",
    "from keras.optimizers import RMSprop\n",
    "from keras import backend as K"
   ]
  },
  {
   "cell_type": "code",
   "execution_count": null,
   "metadata": {
    "colab": {},
    "colab_type": "code",
    "id": "tHImuPE9I26m"
   },
   "outputs": [],
   "source": [
    "## split data into train and test sets\n",
    "X_train, X_test, y_train, y_test = train_test_split(x_pca, y, test_size=0.3, random_state=42)"
   ]
  },
  {
   "cell_type": "code",
   "execution_count": null,
   "metadata": {},
   "outputs": [],
   "source": [
    "x_pca.shape"
   ]
  },
  {
   "cell_type": "code",
   "execution_count": null,
   "metadata": {
    "colab": {
     "base_uri": "https://localhost:8080/",
     "height": 649
    },
    "colab_type": "code",
    "id": "WNQHzIqWI8Gz",
    "outputId": "2b72290f-3528-4649-bb56-f9555556639b"
   },
   "outputs": [],
   "source": [
    "# Start with a simple sequential model\n",
    "model = Sequential()\n",
    "\n",
    "# Add dense layers to create a fully connected MLP\n",
    "# Note that we specify an input shape for the first layer, but only the first layer.\n",
    "# Relu is the activation function used\n",
    "model.add(Dense(64, activation='relu', input_shape=(40,)))\n",
    "# Dropout layers remove features and fight overfitting\n",
    "model.add(Dropout(0.1))\n",
    "model.add(Dense(64, activation='relu'))\n",
    "model.add(Dropout(0.1))\n",
    "# End with a number of units equal to the number of classes we have for our outcome\n",
    "model.add(Dense(1, activation='softmax'))\n",
    "\n",
    "model.summary()\n",
    "\n",
    "# Compile the model to put it all together.\n",
    "model.compile(loss='binary_crossentropy',\n",
    "              optimizer=RMSprop(),\n",
    "              metrics=['accuracy'])"
   ]
  },
  {
   "cell_type": "code",
   "execution_count": null,
   "metadata": {
    "colab": {
     "base_uri": "https://localhost:8080/",
     "height": 700
    },
    "colab_type": "code",
    "id": "RRFjXpJOI9cB",
    "outputId": "51a77335-249d-478f-868e-b0eee9b78ac7"
   },
   "outputs": [],
   "source": [
    "history = model.fit(X_train, y_train,\n",
    "                    batch_size=128,\n",
    "                    epochs=10,\n",
    "                    verbose=1,\n",
    "                    validation_data=(X_test, y_test))\n",
    "score = model.evaluate(X_test, y_t0.62est, verbose=0)\n",
    "print('Test loss:', score[0])\n",
    "print('Test accuracy:', score[1])"
   ]
  },
  {
   "cell_type": "markdown",
   "metadata": {
    "colab_type": "text",
    "id": "zodicQOw9_lS"
   },
   "source": []
  },
  {
   "cell_type": "markdown",
   "metadata": {
    "colab_type": "text",
    "id": "j1vb6oa1JT8O"
   },
   "source": [
    "# Real World Application\n",
    "Now that we have our prediction model, let's implement it to see how much hypothetical money we make! For simplicity, we'll assume we bet $100 on each prediction. This is calculated as follows:\n",
    "\n",
    "Underdog Bet (positive odds):\n",
    " - Potential Payout = Wager Amount x (Odds/100) + Wager Amount.\n",
    "\n",
    "Favorite Bet (negative odds):\n",
    " - Potential Payout = Wager Amount / (absolute value(Odds)/100) + Wager Amount\n",
    "\n",
    "However, our cumulative total will only calculate profit."
   ]
  },
  {
   "cell_type": "code",
   "execution_count": null,
   "metadata": {
    "colab": {},
    "colab_type": "code",
    "id": "Zp9ofJnXOimP"
   },
   "outputs": [],
   "source": [
    "# declare features, scale and pca\n",
    "x_test = nba_test[features]\n",
    "x_test_scaled = scaler.fit_transform(x_test)\n",
    "x_test_scaled_pca = PCA(40).fit_transform(x_test_scaled)"
   ]
  },
  {
   "cell_type": "code",
   "execution_count": null,
   "metadata": {
    "colab": {
     "base_uri": "https://localhost:8080/",
     "height": 119
    },
    "colab_type": "code",
    "id": "eMrLwAtzCN4u",
    "outputId": "a9e471ab-9492-4c8d-9e5a-523b64ed9f0d"
   },
   "outputs": [],
   "source": [
    "# fit to training data and predict for current season\n",
    "nba_test['predictions'] = gnb.fit(x_pca, y).predict(x_test_scaled_pca)"
   ]
  },
  {
   "cell_type": "markdown",
   "metadata": {
    "colab_type": "text",
    "id": "NyN9_yqWxDb3"
   },
   "source": [
    "Here our model correctly picked 56% of games from the current 2019-20 season. Next we'll calculate money made."
   ]
  },
  {
   "cell_type": "code",
   "execution_count": null,
   "metadata": {
    "colab": {
     "base_uri": "https://localhost:8080/",
     "height": 34
    },
    "colab_type": "code",
    "id": "YTiBb0KNIIVO",
    "outputId": "a5ce5463-93e2-4d5b-98f7-ea3dcbfa546c"
   },
   "outputs": [],
   "source": [
    "## correct pct picks\n",
    "len(nba_test[nba_test['predictions']==nba_test['homeWin']])/len(nba_test)"
   ]
  },
  {
   "cell_type": "code",
   "execution_count": null,
   "metadata": {
    "colab": {
     "base_uri": "https://localhost:8080/",
     "height": 119
    },
    "colab_type": "code",
    "id": "DEUmiN0-PKJV",
    "outputId": "fa4867a2-c4c6-47ed-849c-bc4ed8eb395d"
   },
   "outputs": [],
   "source": [
    "## create an empty money won column\n",
    "nba_test['moneyWon'] = 0"
   ]
  },
  {
   "cell_type": "code",
   "execution_count": null,
   "metadata": {
    "colab": {},
    "colab_type": "code",
    "id": "ks-hhoK8Vj4_"
   },
   "outputs": [],
   "source": [
    "## calculate money won\n",
    "##If the American odds are positive the formula is as follows: (American odds / 100) + 1 = decimal odds.\n",
    "##If the American odds are negative, the formula is as follows: 1 - (100 / - American odds) = decimal odds.\n",
    "for i in nba_test.index:\n",
    "  ## check for correct pick\n",
    "  if nba_test['predictions'].iloc[i] == nba_test['homeWin'].iloc[i]:\n",
    "    ## correct home win\n",
    "    if nba_test['homeWin'].iloc[i] == True:\n",
    "      ## home is favored\n",
    "      if nba_test['homeOdds'].iloc[i] < 0:\n",
    "        nba_test.at[i, 'moneyWon'] = (100 / ((abs(nba_test['homeOdds'].iloc[i]))*100))\n",
    "      ## home is underdog\n",
    "      elif nba_test['homeOdds'].iloc[i] > 0:\n",
    "        nba_test.at[i, 'moneyWon'] = (100 * ((nba_test['homeOdds'].iloc[i])/100))\n",
    "      ## even odds\n",
    "      elif nba_test['homeOdds'].iloc[i] == 0:\n",
    "        nba_test.at[i, 'moneyWon'] = 100\n",
    "    ## correct away win\n",
    "    if nba_test['homeWin'].iloc[i] == False:\n",
    "      ## away is favored\n",
    "      if nba_test['awayOdds'].iloc[i] < 0:\n",
    "        nba_test.at[i, 'moneyWon'] = (100 / ((abs(nba_test['awayOdds'].iloc[i]))*100)) \n",
    "      ## away is underdog\n",
    "      elif nba_test['awayOdds'].iloc[i] > 0:\n",
    "        nba_test.at[i, 'moneyWon'] = (100 * ((nba_test['awayOdds'].iloc[i])/100)) \n",
    "      ## even odds\n",
    "      elif nba_test['awayOdds'].iloc[i] == 0:\n",
    "        nba_test.at[i, 'moneyWon'] = 100 \n",
    "  ## incorrect pick\n",
    "  elif nba_test['predictions'].iloc[i] != nba_test['homeWin'].iloc[i]:\n",
    "    nba_test.at[i, 'moneyWon'] = -100"
   ]
  },
  {
   "cell_type": "code",
   "execution_count": null,
   "metadata": {},
   "outputs": [],
   "source": [
    "(100 / ((abs(-1100))/100))"
   ]
  },
  {
   "cell_type": "code",
   "execution_count": null,
   "metadata": {
    "colab": {
     "base_uri": "https://localhost:8080/",
     "height": 119
    },
    "colab_type": "code",
    "id": "u_7SqViVrp6r",
    "outputId": "e4d75c1e-64d6-405b-cd98-d26b62d5d9ef"
   },
   "outputs": [],
   "source": [
    "## create cumulative money won column\n",
    "nba_test['cumTotalWon']  = nba_test['moneyWon'].cumsum()"
   ]
  },
  {
   "cell_type": "code",
   "execution_count": null,
   "metadata": {
    "colab": {
     "base_uri": "https://localhost:8080/",
     "height": 359
    },
    "colab_type": "code",
    "id": "8iYaoGWnokv6",
    "outputId": "93d2c62f-4740-446f-e9fe-2e41e9ff3df9"
   },
   "outputs": [],
   "source": [
    "# check work\n",
    "nba_test[['predictions','homeWin','homeOdds','awayOdds','moneyWon','cumTotalWon']].tail(10)"
   ]
  },
  {
   "cell_type": "code",
   "execution_count": null,
   "metadata": {},
   "outputs": [],
   "source": [
    "nba_test[nba_test['predictions']==nba_test['homeWin']]['moneyWon'].sum()"
   ]
  },
  {
   "cell_type": "code",
   "execution_count": null,
   "metadata": {},
   "outputs": [],
   "source": [
    "nba_test[nba_test['predictions']!=nba_test['homeWin']]['moneyWon'].sum()"
   ]
  },
  {
   "cell_type": "code",
   "execution_count": null,
   "metadata": {},
   "outputs": [],
   "source": [
    "nba_test['moneyWon'].describe()"
   ]
  },
  {
   "cell_type": "code",
   "execution_count": null,
   "metadata": {},
   "outputs": [],
   "source": [
    "import random\n",
    "import n"
   ]
  },
  {
   "cell_type": "code",
   "execution_count": null,
   "metadata": {},
   "outputs": [],
   "source": [
    "nba_rand = nba_test.copy()"
   ]
  },
  {
   "cell_type": "code",
   "execution_count": null,
   "metadata": {},
   "outputs": [],
   "source": [
    "def random_profit(nba_test,samples = 5000):\n",
    "    profits = []\n",
    "    for i in range(samples):\n",
    "        nba_rand = nba_test.copy()\n",
    "        nba_rand['predictions'] = np.random.randint(0,2,size=len(nba_test)).astype(bool)\n",
    "        calc_money(nba_rand)\n",
    "        profits.append(nba_rand['cumTotalWon'][589])\n",
    "    return profits"
   ]
  },
  {
   "cell_type": "code",
   "execution_count": null,
   "metadata": {},
   "outputs": [],
   "source": [
    "rands = random_profit(nba_test)"
   ]
  },
  {
   "cell_type": "code",
   "execution_count": null,
   "metadata": {},
   "outputs": [],
   "source": [
    "np.array(rands).mean()"
   ]
  },
  {
   "cell_type": "code",
   "execution_count": null,
   "metadata": {},
   "outputs": [],
   "source": [
    "plt.hist(rands)\n",
    "plt.axvline(np.array(rands).mean(),color='b')\n",
    "plt."
   ]
  },
  {
   "cell_type": "code",
   "execution_count": null,
   "metadata": {},
   "outputs": [],
   "source": [
    "nba_home = nba_test.copy()"
   ]
  },
  {
   "cell_type": "code",
   "execution_count": null,
   "metadata": {},
   "outputs": [],
   "source": [
    "nba_away = nba_test.copy()"
   ]
  },
  {
   "cell_type": "code",
   "execution_count": null,
   "metadata": {},
   "outputs": [],
   "source": [
    "nba_rand['predictions'] = np.random.randint(0,2,size=len(nba_test)).astype(bool)\n",
    "nba_home['predictions'] = np.full(len(nba_test),1).astype(bool)\n",
    "nba_away['predictions'] = np.full(len(nba_test),0).astype(bool)"
   ]
  },
  {
   "cell_type": "code",
   "execution_count": null,
   "metadata": {},
   "outputs": [],
   "source": [
    "def calc_money(nba_test): \n",
    "    for i in nba_test.index:\n",
    "      ## check for correct pick\n",
    "      if nba_test['predictions'].iloc[i] == nba_test['homeWin'].iloc[i]:\n",
    "        ## correct home win\n",
    "        if nba_test['homeWin'].iloc[i] == True:\n",
    "          ## home is favored\n",
    "          if nba_test['homeOdds'].iloc[i] < 0:\n",
    "            nba_test.at[i, 'moneyWon'] = (100 / ((abs(nba_test['homeOdds'].iloc[i]))*100))\n",
    "          ## home is underdog\n",
    "          elif nba_test['homeOdds'].iloc[i] > 0:\n",
    "            nba_test.at[i, 'moneyWon'] = (100 * ((nba_test['homeOdds'].iloc[i])/100))\n",
    "          ## even odds\n",
    "          elif nba_test['homeOdds'].iloc[i] == 0:\n",
    "            nba_test.at[i, 'moneyWon'] = 100\n",
    "        ## correct away win\n",
    "        if nba_test['homeWin'].iloc[i] == False:\n",
    "          ## away is favored\n",
    "          if nba_test['awayOdds'].iloc[i] < 0:\n",
    "            nba_test.at[i, 'moneyWon'] = (100 / ((abs(nba_test['awayOdds'].iloc[i]))*100)) \n",
    "          ## away is underdog\n",
    "          elif nba_test['awayOdds'].iloc[i] > 0:\n",
    "            nba_test.at[i, 'moneyWon'] = (100 * ((nba_test['awayOdds'].iloc[i])/100)) \n",
    "          ## even odds\n",
    "          elif nba_test['awayOdds'].iloc[i] == 0:\n",
    "            nba_test.at[i, 'moneyWon'] = 100 \n",
    "      ## incorrect pick\n",
    "      elif nba_test['predictions'].iloc[i] != nba_test['homeWin'].iloc[i]:\n",
    "        nba_test.at[i, 'moneyWon'] = -100\n",
    "        \n",
    "    nba_test['cumTotalWon']  = nba_test['moneyWon'].cumsum()"
   ]
  },
  {
   "cell_type": "code",
   "execution_count": null,
   "metadata": {},
   "outputs": [],
   "source": [
    "calc_money(nba_away)"
   ]
  },
  {
   "cell_type": "code",
   "execution_count": null,
   "metadata": {},
   "outputs": [],
   "source": [
    "calc_money(nba_rand)"
   ]
  },
  {
   "cell_type": "code",
   "execution_count": null,
   "metadata": {},
   "outputs": [],
   "source": [
    "calc_money(nba_home)"
   ]
  },
  {
   "cell_type": "code",
   "execution_count": null,
   "metadata": {},
   "outputs": [],
   "source": [
    "nba_rand['cumTotalWon'] = nba_rand.moneyWon.astype(float).cumsum()"
   ]
  },
  {
   "cell_type": "code",
   "execution_count": null,
   "metadata": {},
   "outputs": [],
   "source": [
    "nba_rand"
   ]
  },
  {
   "cell_type": "code",
   "execution_count": null,
   "metadata": {},
   "outputs": [],
   "source": [
    "nba_away"
   ]
  },
  {
   "cell_type": "code",
   "execution_count": null,
   "metadata": {},
   "outputs": [],
   "source": [
    "nba_test.winner.value_counts()"
   ]
  },
  {
   "cell_type": "code",
   "execution_count": null,
   "metadata": {},
   "outputs": [],
   "source": [
    "plt.hist(nba_test.homeOdds)\n",
    "plt.title('Home Odds',fontdict=font,size=20,pad=10)\n",
    "plt.axvline(nba_test.homeOdds.mean(),color='blue',alpha=.5,linestyle='dashdot',label=f'Mean: {round(nba_test.homeOdds.mean())}')\n",
    "plt.legend()\n",
    "plt.savefig('imgs/homeodds.png')"
   ]
  },
  {
   "cell_type": "code",
   "execution_count": null,
   "metadata": {},
   "outputs": [],
   "source": [
    "-100*(319) + 100*(271)"
   ]
  },
  {
   "cell_type": "code",
   "execution_count": null,
   "metadata": {},
   "outputs": [],
   "source": [
    "plt.hist(nba_test.awayOdds,color='blue')\n",
    "plt.title('Away Odds',fontdict=font,size=20,pad=10)\n",
    "plt.axvline(nba_test.awayOdds.mean(),color='orange',alpha=.5,linestyle='dashdot',label=f'Mean: +{round(nba_test.awayOdds.mean())}')\n",
    "plt.legend()\n",
    "plt.savefig('imgs/awayodds.png')"
   ]
  },
  {
   "cell_type": "code",
   "execution_count": null,
   "metadata": {},
   "outputs": [],
   "source": [
    "# Pie chart, where the slices will be ordered and plotted counter-clockwise:\n",
    "font = {'family': 'serif',\n",
    "        'color':  'black',\n",
    "        'weight': 'normal',\n",
    "        'size': 16,\n",
    "        }\n",
    "\n",
    "labels = 'Home','Away'\n",
    "sizes = [15, 30, 45, 10]\n",
    "explode = (0, 0.1)  # only \"explode\" the 2nd slice (i.e. 'Hogs')\n",
    "\n",
    "fig1, ax1 = plt.subplots()\n",
    "ax1.pie(nba_test.winner.value_counts(), explode=explode, labels=labels, autopct='%1.1f%%',\n",
    "        shadow=True, startangle=90)\n",
    "ax1.axis('equal')  # Equal aspect ratio ensures that pie is drawn as a circle.\n",
    "ax1.set_title('Wins',fontdict=font,size=20)\n",
    "plt.savefig('imgs/winsbyloc.png')"
   ]
  },
  {
   "cell_type": "code",
   "execution_count": null,
   "metadata": {},
   "outputs": [],
   "source": [
    "nba_test.groupby(['homeTeam'])['moneyWon'].sum().plot.barh(figsize=(20,16),color=['firebrick','darkgreen','black','red','lightseagreen','maroon','navy','midnightblue','crimson','gold','red','goldenrod','blue','darkviolet','darkturquoise','darkred','darkgreen','skyblue','navy','darkorange','deepskyblue','blue','red','darkorchid','black','purple','black','darkred','navy','mediumblue'])"
   ]
  },
  {
   "cell_type": "code",
   "execution_count": null,
   "metadata": {},
   "outputs": [],
   "source": [
    "earningsbyTeam = nba_test.groupby(['homeTeam'])['moneyWon'].sum()"
   ]
  },
  {
   "cell_type": "code",
   "execution_count": null,
   "metadata": {},
   "outputs": [],
   "source": [
    "earnings = pd.Series(earningsbyTeam)"
   ]
  },
  {
   "cell_type": "code",
   "execution_count": null,
   "metadata": {},
   "outputs": [],
   "source": [
    "color=['firebrick','darkgreen','black','red','lightseagreen','maroon','navy','midnightblue','crimson','gold','red','goldenrod','blue','darkviolet','darkturquoise','darkred','darkgreen','skyblue','navy','darkorange','deepskyblue','blue','red','darkorchid','red','purple','black','darkred','navy','mediumblue']"
   ]
  },
  {
   "cell_type": "code",
   "execution_count": null,
   "metadata": {},
   "outputs": [],
   "source": [
    "colorSeries = pd.Series(color,name='color',index=earnings.index)"
   ]
  },
  {
   "cell_type": "code",
   "execution_count": null,
   "metadata": {},
   "outputs": [],
   "source": [
    "nba_test.tail(20)"
   ]
  },
  {
   "cell_type": "code",
   "execution_count": null,
   "metadata": {},
   "outputs": [],
   "source": [
    "earningsbyTeam2 = pd.merge(earnings,colorSeries,left_index=True,right_index=True)"
   ]
  },
  {
   "cell_type": "code",
   "execution_count": null,
   "metadata": {},
   "outputs": [],
   "source": [
    "import os\n",
    "\n",
    "images = []\n",
    "\n",
    "folder = 'logos/'\n",
    "for fn in os.listdir(folder):\n",
    "    images.append(fn)"
   ]
  },
  {
   "cell_type": "code",
   "execution_count": null,
   "metadata": {},
   "outputs": [],
   "source": [
    "earn = earningsbyTeam2.sort_values('moneyWon')"
   ]
  },
  {
   "cell_type": "code",
   "execution_count": null,
   "metadata": {},
   "outputs": [],
   "source": [
    "earn"
   ]
  },
  {
   "cell_type": "code",
   "execution_count": null,
   "metadata": {},
   "outputs": [],
   "source": [
    "nba_test"
   ]
  },
  {
   "cell_type": "code",
   "execution_count": null,
   "metadata": {},
   "outputs": [],
   "source": [
    "import matplotlib.image as mpimg\n",
    "\n",
    "\n",
    "def pos_image(x, y, im, haut):\n",
    "    path = \"logos\"\n",
    "    newim = f\"{path}/{im}\"\n",
    "    newim = mpimg.imread(newim)\n",
    "    ratio = 4 / 3\n",
    "    w = ratio * haut\n",
    "    ax.imshow(newim,\n",
    "              extent=(x - w, x, y, y + haut),\n",
    "              zorder=2)\n"
   ]
  },
  {
   "cell_type": "code",
   "execution_count": null,
   "metadata": {},
   "outputs": [],
   "source": [
    "fig, ax = plt.subplots(figsize=(16,12))\n",
    "r = ax.barh(earn.index,width=earn.moneyWon,height=1,color=earn.color)\n",
    "r\n",
    "y_bar = [rectangle.get_y() for rectangle in r]\n",
    "ax.axvline(0,color='black',linestyle='--')\n",
    "ax.set_title('Profit by Team',size=30,pad=15)\n",
    "ax.set_xlabel('Profit ($)',size=18,labelpad=10)\n",
    "ax.set_ylabel('Team',size=18,labelpad=10)\n",
    "ax.set_facecolor('white')\n",
    "plt.savefig('imgs/profitbyteam.jpg')\n",
    "\n"
   ]
  },
  {
   "cell_type": "markdown",
   "metadata": {
    "colab_type": "text",
    "id": "1epew79D0WS1"
   },
   "source": [
    "# Final Results!"
   ]
  },
  {
   "cell_type": "code",
   "execution_count": null,
   "metadata": {
    "colab": {
     "base_uri": "https://localhost:8080/",
     "height": 400
    },
    "colab_type": "code",
    "id": "XXeks3C9sjxx",
    "outputId": "79c359ed-e5cf-451b-8de7-4b695dfbcaa8"
   },
   "outputs": [],
   "source": [
    "## plot the cumulative money won over time\n",
    "plt.style.use('ggplot')\n",
    "\n",
    "fig, ax = plt.subplots(figsize=(14,8))\n",
    "plt.scatter(nba_test['date'], nba_test['cumTotalWon'],color=(nba_test['cumTotalWon'] > 0).map({True: 'g',\n",
    "                                                    False: 'r'}))\n",
    "plt.plot(nba_test['date'], nba_test['cumTotalWon'],color=[0, 0.4470, 0.7410],alpha=0.6)\n",
    "plt.title('Cumulative Earnings with $100 bets',fontsize=24,pad=20)\n",
    "plt.ylabel('Dollars Earned ($)')\n",
    "plt.xlabel('2019-20 NBA Season',labelpad=20,fontsize=15)\n",
    "plt.grid(linestyle='-',alpha=.2)\n",
    "ax.tick_params()\n",
    "plt.savefig('imgs/cumearnings.png')"
   ]
  },
  {
   "cell_type": "code",
   "execution_count": null,
   "metadata": {},
   "outputs": [],
   "source": [
    "plt.style.use('ggplot')\n",
    "\n",
    "fig, ax = plt.subplots(figsize=(14,8))\n",
    "plt.scatter(nba_home['date'], nba_home['cumTotalWon'],color=(nba_home['cumTotalWon'] > 0).map({True: 'g',\n",
    "                                                    False: 'r'}))\n",
    "plt.plot(nba_home['date'], nba_home['cumTotalWon'],color=[0, 0.4470, 0.7410],alpha=0.6)\n",
    "plt.title('Cumulative Earnings with $100 bets',fontsize=24,pad=20)\n",
    "plt.ylabel('Dollars Earned ($)')\n",
    "plt.xlabel('2019-20 NBA Season',labelpad=20,fontsize=15)\n",
    "plt.grid(linestyle='-',alpha=.2)\n",
    "ax.tick_params()\n",
    "#plt.savefig('imgs/homeearnings.png')"
   ]
  },
  {
   "cell_type": "code",
   "execution_count": null,
   "metadata": {},
   "outputs": [],
   "source": [
    "plt.style.use('ggplot')\n",
    "\n",
    "fig, ax = plt.subplots(figsize=(14,8))\n",
    "plt.scatter(nba_away['date'], nba_away['cumTotalWon'],color=(nba_away['cumTotalWon'] > 0).map({True: 'g',\n",
    "                                                    False: 'r'}))\n",
    "plt.plot(nba_away['date'], nba_away['cumTotalWon'],color=[0, 0.4470, 0.7410],alpha=0.6)\n",
    "plt.title('Cumulative Earnings with $100 bets',fontsize=24,pad=20)\n",
    "plt.ylabel('Dollars Earned ($)')\n",
    "plt.xlabel('2019-20 NBA Season',labelpad=20,fontsize=15)\n",
    "plt.grid(linestyle='-',alpha=.2)\n",
    "plt.bar(nba_test5000.index,nba_test5000.cumTotalWon)\n",
    "ax.tick_params()\n",
    "#plt.savefig('imgs/homeearnings.png')"
   ]
  },
  {
   "cell_type": "code",
   "execution_count": null,
   "metadata": {},
   "outputs": [],
   "source": [
    "nba_test5000 = nba_test.copy()\n",
    "nba_test5000['cumTotalWon'] += 2000\n",
    "plt.bar(nba_test5000.index,nba_test5000.cumTotalWon)"
   ]
  },
  {
   "cell_type": "code",
   "execution_count": null,
   "metadata": {},
   "outputs": [],
   "source": [
    "(-100)*(319) + (100)*(520-319)"
   ]
  },
  {
   "cell_type": "code",
   "execution_count": null,
   "metadata": {
    "colab": {
     "base_uri": "https://localhost:8080/",
     "height": 68
    },
    "colab_type": "code",
    "id": "X4UHaEvfMcaY",
    "outputId": "6d33000c-e34d-4c19-c4e5-9aaf03832ebe"
   },
   "outputs": [],
   "source": [
    "print(\"The model's low point is {} dollars.\".format(nba_test['cumTotalWon'].min()))\n",
    "print(\"The model's high point is {} dollars.\".format(nba_test['cumTotalWon'].max()))\n",
    "print(\"The model has profited {} dollars this season.\".format(nba_test['cumTotalWon'].iloc[-1]))"
   ]
  },
  {
   "cell_type": "markdown",
   "metadata": {
    "colab_type": "text",
    "id": "mfoGMn4X2CEQ"
   },
   "source": [
    "Below are a few predicted huge upsets! "
   ]
  },
  {
   "cell_type": "code",
   "execution_count": null,
   "metadata": {
    "colab": {
     "base_uri": "https://localhost:8080/",
     "height": 204
    },
    "colab_type": "code",
    "id": "3_sZq3RzybMS",
    "outputId": "289f3a3b-a33f-46db-e7bd-803c44574337"
   },
   "outputs": [],
   "source": [
    "## top 5 wins\n",
    "nba_test[['date','homeTeam','awayTeam','predictions','homeWin','homeOdds','awayOdds','moneyWon']].loc[nba_test['moneyWon'] > 100].sort_values(by='moneyWon',ascending=False).head()"
   ]
  },
  {
   "cell_type": "markdown",
   "metadata": {
    "colab_type": "text",
    "id": "pY138brZPYPP"
   },
   "source": [
    "Here's some potentially dumb bets that we still got right."
   ]
  },
  {
   "cell_type": "code",
   "execution_count": null,
   "metadata": {
    "colab": {
     "base_uri": "https://localhost:8080/",
     "height": 204
    },
    "colab_type": "code",
    "id": "5EHIjcwVPGCu",
    "outputId": "779f80c1-3145-4212-d05e-98ba675d71ab"
   },
   "outputs": [],
   "source": [
    "## least money made on a bet\n",
    "nba_test[['date','homeTeam','awayTeam','predictions','homeWin','homeOdds','awayOdds','moneyWon']].loc[nba_test['moneyWon'] > 0].sort_values(by='moneyWon').head()"
   ]
  },
  {
   "cell_type": "code",
   "execution_count": null,
   "metadata": {},
   "outputs": [],
   "source": [
    "nba_test.homeOdds.describe()"
   ]
  },
  {
   "cell_type": "code",
   "execution_count": null,
   "metadata": {},
   "outputs": [],
   "source": [
    "from scipy.stats import norm"
   ]
  },
  {
   "cell_type": "code",
   "execution_count": null,
   "metadata": {},
   "outputs": [],
   "source": [
    "norm.normal"
   ]
  }
 ],
 "metadata": {
  "accelerator": "GPU",
  "colab": {
   "authorship_tag": "ABX9TyNsriRjTSHmWnQ6HX1o+07r",
   "collapsed_sections": [
    "Bmgk_6qWBzMZ",
    "ssHQ-FaSIhJ0"
   ],
   "include_colab_link": true,
   "name": "NbaPredictionFinal",
   "provenance": []
  },
  "kernelspec": {
   "display_name": "Python 3",
   "language": "python",
   "name": "python3"
  },
  "language_info": {
   "codemirror_mode": {
    "name": "ipython",
    "version": 3
   },
   "file_extension": ".py",
   "mimetype": "text/x-python",
   "name": "python",
   "nbconvert_exporter": "python",
   "pygments_lexer": "ipython3",
   "version": "3.7.7"
  }
 },
 "nbformat": 4,
 "nbformat_minor": 4
}
